{
 "cells": [
  {
   "cell_type": "code",
   "execution_count": 1,
   "id": "f0c513fb",
   "metadata": {},
   "outputs": [
    {
     "name": "stderr",
     "output_type": "stream",
     "text": [
      "/home/lk/anaconda3/lib/python3.9/site-packages/pandas/core/computation/expressions.py:21: UserWarning: Pandas requires version '2.8.4' or newer of 'numexpr' (version '2.7.3' currently installed).\n",
      "  from pandas.core.computation.check import NUMEXPR_INSTALLED\n",
      "/home/lk/anaconda3/lib/python3.9/site-packages/pandas/core/arrays/masked.py:60: UserWarning: Pandas requires version '1.3.6' or newer of 'bottleneck' (version '1.3.2' currently installed).\n",
      "  from pandas.core import (\n",
      "/home/lk/anaconda3/lib/python3.9/site-packages/scipy/__init__.py:146: UserWarning: A NumPy version >=1.16.5 and <1.23.0 is required for this version of SciPy (detected version 1.26.4\n",
      "  warnings.warn(f\"A NumPy version >={np_minversion} and <{np_maxversion}\"\n"
     ]
    }
   ],
   "source": [
    "import numpy as np\n",
    "import pandas as pd\n",
    "import matplotlib.pyplot as plt\n",
    "from mpl_toolkits.basemap import Basemap\n",
    "import netCDF4 as nc\n",
    "import cartopy.crs as ccrs\n",
    "import cartopy.feature as cfeature\n",
    "import cartopy.mpl.gridliner \n",
    "# import LONGITUDE_FORMATTER, LATITUDE_FORMATTER\n",
    "import cartopy.mpl.ticker as cticker\n",
    "import cartopy.io.shapereader as shpreader\n",
    "\n",
    "import cartopy.feature as cfeature\n",
    "from cartopy.mpl.ticker import LongitudeFormatter, LatitudeFormatter\n",
    "from IPython.display import display\n",
    "from dbfread import DBF\n",
    "\n",
    "import cartopy.crs as ccrs\n",
    "from cartopy.mpl.ticker import LongitudeFormatter, LatitudeFormatter  # 刻度格式\n",
    "import matplotlib.ticker as mticker  # 添加网格线\n",
    "import math\n",
    "from matplotlib import patches\n",
    "import os\n",
    "from matplotlib import font_manager as fm, rcParams\n",
    "pd.options.display.max_columns = None\n",
    "\n",
    "\n",
    "dataset_si = pd.DataFrame(iter(DBF('../dataset/SI.dbf')))\n",
    "dataset_sp = pd.DataFrame(iter(DBF('../dataset/south_patric.dbf')))\n",
    "\n"
   ]
  },
  {
   "cell_type": "code",
   "execution_count": 23,
   "id": "e13053bf",
   "metadata": {},
   "outputs": [
    {
     "name": "stderr",
     "output_type": "stream",
     "text": [
      "/tmp/ipykernel_845776/533641912.py:38: FutureWarning: Downcasting object dtype arrays on .fillna, .ffill, .bfill is deprecated and will change in a future version. Call result.infer_objects(copy=False) instead. To opt-in to the future behavior, set `pd.set_option('future.no_silent_downcasting', True)`\n",
      "  df_level = df_level.fillna(0)\n"
     ]
    }
   ],
   "source": [
    "df_1980to2023 = dataset_si[(dataset_si['SEASON'] >= 1979) & (dataset_si['SEASON'] <= 2023)]\n",
    "\n",
    "df_1980to2023_ = df_1980to2023[(df_1980to2023['month'] > 10) | (df_1980to2023['month'] < 5)]\n",
    "\n",
    "df_level = pd.DataFrame(columns=['D','S','C1','C2','C3','C4','C5'],index=[i for i in range(1979, 2024)])\n",
    "\n",
    "for year in range(1979, 2024):\n",
    "    df_year = df_1980to2023_[df_1980to2023_['SEASON'] == year]\n",
    "    Typh_times = df_year['NUMBER'].value_counts().sort_index().reset_index()\n",
    "    df_ = pd.DataFrame(columns=['SEASON', 'NUMBER', 'typhoon_counts','level'])\n",
    "    df_['SEASON'] = year\n",
    "    df_['NUMBER'] = Typh_times['NUMBER']\n",
    "    df_['typhoon_counts'] = Typh_times['count']\n",
    "\n",
    "    level = []\n",
    "    for num in Typh_times['NUMBER']:\n",
    "        df_typh_num = df_year[df_year['NUMBER'] == num]\n",
    "        typh_num_max = df_typh_num['USA_WIND'].max() # 查找最大值\n",
    "        if typh_num_max>=34 and typh_num_max<64:\n",
    "            level.append('S')\n",
    "        elif typh_num_max>=64 and typh_num_max<83:\n",
    "            level.append('C1')\n",
    "        elif typh_num_max>=83 and typh_num_max<96:\n",
    "            level.append('C2')    \n",
    "        elif typh_num_max>=96 and typh_num_max<113:\n",
    "            level.append('C3')\n",
    "        elif typh_num_max>=113 and typh_num_max<137:\n",
    "            level.append('C4')        \n",
    "        elif typh_num_max>=137:\n",
    "            level.append('C5')        \n",
    "        else:\n",
    "            level.append('D')\n",
    "    df_['level'] = level\n",
    "    df_year_ = df_['level'].value_counts().sort_index().reset_index()\n",
    "    for i in range(len(df_year_['level'])):\n",
    "        df_level.at[year,df_year_['level'][i]] = df_year_['count'][i]\n",
    "        \n",
    "df_level = df_level.fillna(0)\n",
    "\n",
    "df_level_ = df_level.drop(columns=['D'])\n",
    "\n",
    "df_level_['SP'] = df_level_.apply(lambda x:x.sum(),axis=1)\n",
    "\n"
   ]
  },
  {
   "cell_type": "code",
   "execution_count": 24,
   "id": "9548c5dc",
   "metadata": {},
   "outputs": [
    {
     "name": "stderr",
     "output_type": "stream",
     "text": [
      "/tmp/ipykernel_845776/3776287259.py:1: UserWarning: Boolean Series key will be reindexed to match DataFrame index.\n",
      "  df_1980to2023 = dataset_sp[(dataset_sp['SEASON'] >= 1979) & (dataset_si['SEASON'] <= 2023)]\n",
      "/tmp/ipykernel_845776/3776287259.py:38: FutureWarning: Downcasting object dtype arrays on .fillna, .ffill, .bfill is deprecated and will change in a future version. Call result.infer_objects(copy=False) instead. To opt-in to the future behavior, set `pd.set_option('future.no_silent_downcasting', True)`\n",
      "  df_level = df_level.fillna(0)\n"
     ]
    }
   ],
   "source": [
    "df_1980to2023 = dataset_sp[(dataset_sp['SEASON'] >= 1979) & (dataset_si['SEASON'] <= 2023)]\n",
    "\n",
    "df_1980to2023_ = df_1980to2023[(df_1980to2023['month'] > 10) | (df_1980to2023['month'] < 5)]\n",
    "\n",
    "df_level = pd.DataFrame(columns=['D','S','C1','C2','C3','C4','C5'],index=[i for i in range(1979, 2024)])\n",
    "\n",
    "for year in range(1979, 2024):\n",
    "    df_year = df_1980to2023_[df_1980to2023_['SEASON'] == year]\n",
    "    Typh_times = df_year['NUMBER'].value_counts().sort_index().reset_index()\n",
    "    df_ = pd.DataFrame(columns=['SEASON', 'NUMBER', 'typhoon_counts','level'])\n",
    "    df_['SEASON'] = year\n",
    "    df_['NUMBER'] = Typh_times['NUMBER']\n",
    "    df_['typhoon_counts'] = Typh_times['count']\n",
    "\n",
    "    level = []\n",
    "    for num in Typh_times['NUMBER']:\n",
    "        df_typh_num = df_year[df_year['NUMBER'] == num]\n",
    "        typh_num_max = df_typh_num['USA_WIND'].max() # 查找最大值\n",
    "        if typh_num_max>=34 and typh_num_max<64:\n",
    "            level.append('S')\n",
    "        elif typh_num_max>=64 and typh_num_max<83:\n",
    "            level.append('C1')\n",
    "        elif typh_num_max>=83 and typh_num_max<96:\n",
    "            level.append('C2')    \n",
    "        elif typh_num_max>=96 and typh_num_max<113:\n",
    "            level.append('C3')\n",
    "        elif typh_num_max>=113 and typh_num_max<137:\n",
    "            level.append('C4')        \n",
    "        elif typh_num_max>=137:\n",
    "            level.append('C5')        \n",
    "        else:\n",
    "            level.append('D')\n",
    "    df_['level'] = level\n",
    "    df_year_ = df_['level'].value_counts().sort_index().reset_index()\n",
    "    for i in range(len(df_year_['level'])):\n",
    "        df_level.at[year,df_year_['level'][i]] = df_year_['count'][i]\n",
    "        \n",
    "df_level = df_level.fillna(0)\n",
    "\n",
    "df_level_ = df_level.drop(columns=['D'])\n",
    "\n",
    "df_level_['SP'] = df_level_.apply(lambda x:x.sum(),axis=1)\n",
    "\n"
   ]
  },
  {
   "cell_type": "code",
   "execution_count": 13,
   "id": "a8eb8106",
   "metadata": {},
   "outputs": [
    {
     "name": "stderr",
     "output_type": "stream",
     "text": [
      "/tmp/ipykernel_845776/2317692391.py:1: UserWarning: Pandas requires version '3.0.5' or newer of 'xlsxwriter' (version '3.0.1' currently installed).\n",
      "  df_level_.to_excel('./SI0321.xlsx')\n"
     ]
    }
   ],
   "source": [
    "df_level_.to_excel('./SI0321.xlsx')"
   ]
  },
  {
   "cell_type": "code",
   "execution_count": 22,
   "id": "38d0ab22",
   "metadata": {},
   "outputs": [
    {
     "name": "stderr",
     "output_type": "stream",
     "text": [
      "/tmp/ipykernel_845776/3077485839.py:1: UserWarning: Pandas requires version '3.0.5' or newer of 'xlsxwriter' (version '3.0.1' currently installed).\n",
      "  df_level_.to_excel('./SP0321.xlsx')\n"
     ]
    }
   ],
   "source": [
    "df_level_.to_excel('./SP0321.xlsx')"
   ]
  },
  {
   "cell_type": "code",
   "execution_count": null,
   "id": "f75724ca",
   "metadata": {},
   "outputs": [],
   "source": []
  },
  {
   "cell_type": "code",
   "execution_count": null,
   "id": "64607fb7",
   "metadata": {},
   "outputs": [],
   "source": []
  },
  {
   "cell_type": "code",
   "execution_count": null,
   "id": "8474111d",
   "metadata": {},
   "outputs": [],
   "source": []
  },
  {
   "cell_type": "code",
   "execution_count": null,
   "id": "6b80c055",
   "metadata": {},
   "outputs": [],
   "source": []
  },
  {
   "cell_type": "code",
   "execution_count": null,
   "id": "920eed1f",
   "metadata": {},
   "outputs": [],
   "source": []
  },
  {
   "cell_type": "code",
   "execution_count": null,
   "id": "304aad16",
   "metadata": {},
   "outputs": [],
   "source": []
  }
 ],
 "metadata": {
  "kernelspec": {
   "display_name": "Python 3 (ipykernel)",
   "language": "python",
   "name": "python3"
  },
  "language_info": {
   "codemirror_mode": {
    "name": "ipython",
    "version": 3
   },
   "file_extension": ".py",
   "mimetype": "text/x-python",
   "name": "python",
   "nbconvert_exporter": "python",
   "pygments_lexer": "ipython3",
   "version": "3.9.7"
  }
 },
 "nbformat": 4,
 "nbformat_minor": 5
}
