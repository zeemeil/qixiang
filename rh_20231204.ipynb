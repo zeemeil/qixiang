{
 "cells": [
  {
   "cell_type": "code",
   "execution_count": 1,
   "metadata": {},
   "outputs": [],
   "source": [
    "import numpy as np\n",
    "import pandas as pd\n",
    "import matplotlib.pyplot as plt\n",
    "from mpl_toolkits.basemap import Basemap\n",
    "import netCDF4 as nc\n",
    "import cartopy.crs as ccrs\n",
    "import cartopy.feature as cfeature\n",
    "import cartopy.mpl.gridliner \n",
    "# import LONGITUDE_FORMATTER, LATITUDE_FORMATTER\n",
    "import cartopy.mpl.ticker as cticker\n",
    "import cartopy.io.shapereader as shpreader"
   ]
  },
  {
   "cell_type": "code",
   "execution_count": 2,
   "metadata": {},
   "outputs": [],
   "source": [
    "file = './rhum.mon.mean.nc'\n",
    "dataset = nc.Dataset(file)\n",
    "# print(dataset.variables.keys())\n",
    "\n",
    "longitude, latitude = dataset.variables['lon'],dataset.variables['lat']\n",
    "time = dataset.variables['time']\n",
    "level =dataset.variables['level']\n",
    "rhum = dataset.variables['rhum']"
   ]
  },
  {
   "cell_type": "code",
   "execution_count": 160,
   "metadata": {
    "scrolled": false
   },
   "outputs": [
    {
     "data": {
      "text/plain": [
       "array([[[[71.229996, 71.229996, 71.229996, ..., 71.229996, 71.229996,\n",
       "          71.229996],\n",
       "         [56.710007, 55.839996, 55.089996, ..., 59.460007, 58.539993,\n",
       "          57.660004],\n",
       "         [57.800003, 58.910004, 60.069992, ..., 55.369995, 56.03    ,\n",
       "          56.819992],\n",
       "         ...,\n",
       "         [80.97    , 84.36    , 87.11    , ..., 68.520004, 73.19    ,\n",
       "          77.17999 ],\n",
       "         [80.89    , 81.5     , 82.      , ..., 77.75    , 78.95999 ,\n",
       "          80.05    ],\n",
       "         [79.42    , 79.42    , 79.42    , ..., 79.42    , 79.42    ,\n",
       "          79.42    ]]]], dtype=float32)"
      ]
     },
     "execution_count": 160,
     "metadata": {},
     "output_type": "execute_result"
    }
   ],
   "source": [
    "rhum[:1,3:4].data"
   ]
  },
  {
   "cell_type": "code",
   "execution_count": 166,
   "metadata": {},
   "outputs": [
    {
     "data": {
      "text/plain": [
       "(1, 1, 73, 144)"
      ]
     },
     "execution_count": 166,
     "metadata": {},
     "output_type": "execute_result"
    }
   ],
   "source": [
    "rhum[419:420,3:4].shape"
   ]
  },
  {
   "cell_type": "code",
   "execution_count": 24,
   "metadata": {},
   "outputs": [
    {
     "data": {
      "text/plain": [
       "636"
      ]
     },
     "execution_count": 24,
     "metadata": {},
     "output_type": "execute_result"
    }
   ],
   "source": [
    "(1999-1948+1)*12 +12"
   ]
  },
  {
   "cell_type": "code",
   "execution_count": 18,
   "metadata": {},
   "outputs": [
    {
     "data": {
      "text/plain": [
       "228"
      ]
     },
     "execution_count": 18,
     "metadata": {},
     "output_type": "execute_result"
    }
   ],
   "source": [
    "(1999 - 1980) * 12"
   ]
  },
  {
   "cell_type": "code",
   "execution_count": 26,
   "metadata": {},
   "outputs": [
    {
     "data": {
      "text/plain": [
       "-267"
      ]
     },
     "execution_count": 26,
     "metadata": {},
     "output_type": "execute_result"
    }
   ],
   "source": [
    "396+240-903"
   ]
  },
  {
   "cell_type": "code",
   "execution_count": null,
   "metadata": {},
   "outputs": [],
   "source": [
    "# time从1948年1月开始计算，903/12为75余3，正好是2023年3月\n",
    "# 第一阶段从(1980 - 1948 + 1) * 12 = 396 开始到 612结束\n",
    "# 因为列表从0开始计算，故第一阶段时间区间为[396, 636]\n",
    "num_month = time[:].data.shape[0] # 时间的size\n",
    "num_month_first = (1999 - 1980 + 1) * 12 #计算1980年1月到1999年12月的240月数\n",
    "# 第二阶段从624开始到 900结束\n",
    "# 因为列表从0开始计算，故第一阶段时间区间为[637, 903]\n",
    "num_month_second = (2022 - 2000 + 1) * 12 + 3 #计算1998年1月到2021年12月的267月数\n"
   ]
  },
  {
   "cell_type": "code",
   "execution_count": 29,
   "metadata": {},
   "outputs": [],
   "source": [
    "def rh_mean(rhum, begin_month, num_month):\n",
    "    \"\"\"\n",
    "    rh: 计算的图表，begin_month：开始月份 num_month：每个阶段的月数\n",
    "    \"\"\"\n",
    "    sum_month = np.zeros(rhum[:1,3:4].data[0][:,:].shape, dtype=float, order='C')  # 创建空矩阵\n",
    "    sum_month_tmp = sum_month\n",
    "    count = 0\n",
    "    mean = sum_month\n",
    "    for i in range(begin_month, begin_month + num_month): \n",
    "        temp_pre = rhum[i:i+1,3:4].data[0][:,:]\n",
    "    #     ls_first.append(sst[i:i+1].data[0][:1,-1:])\n",
    "        sum_month_tmp += temp_pre\n",
    "        count += 1\n",
    "    mean = sum_month_tmp / num_month\n",
    "    return mean\n",
    "\n"
   ]
  },
  {
   "cell_type": "code",
   "execution_count": 32,
   "metadata": {},
   "outputs": [],
   "source": [
    "mean_first = rh_mean(rhum, 419, 240)\n",
    "mean_second = rh_mean(rhum, 637, 266)\n",
    "diff = mean_second - mean_first "
   ]
  },
  {
   "cell_type": "code",
   "execution_count": null,
   "metadata": {},
   "outputs": [],
   "source": []
  },
  {
   "cell_type": "code",
   "execution_count": 4,
   "metadata": {
    "scrolled": false
   },
   "outputs": [],
   "source": [
    "# time从1948年1月开始计算，903/12为75余3，正好是2023年3月\n",
    "# 第一阶段从(1982 - 1948 + 1) * 12 =420 开始到 612结束\n",
    "# 因为列表从0开始计算，故第一阶段时间区间为[419, 611]\n",
    "num_month = time[:].data.shape[0] # 时间的size\n",
    "num_month_1997to1982 = (1998 - 1982) * 12 #计算1982年1月到1997年12月的192月数\n",
    "# 第二阶段从613开始到 900结束\n",
    "# 因为列表从0开始计算，故第一阶段时间区间为[612, 899]\n",
    "num_month_2021to1998 = (2022 - 1998) * 12 #计算1998年1月到2021年12月的288月数\n",
    "\n",
    "# 选择level是700\n",
    "# 创建三纬空矩阵(time, lat, lon)\n",
    "sum_month = np.zeros(rhum[:1,3:4].data[0][:,:].shape, dtype=float, order='C') \n",
    "sum_month_1982to1997 = sum_month\n",
    "count = 0\n",
    "ls_first = []\n",
    "mean_1982to1997 = sum_month\n",
    "# 循环时间\n",
    "for i in range(420, 612): \n",
    "    temp_pre = rhum[i:i+1,3:4].data[0][:,:]\n",
    "#     ls_first.append(sst[i:i+1].data[0][:1,-1:])\n",
    "    sum_month_1982to1997 += temp_pre\n",
    "    count += 1\n",
    "mean_1982to1997 = sum_month_1982to1997 / num_month_1997to1982\n",
    "\n",
    "sum_month = np.zeros(rhum[:1,3:4].data[0][:,:].shape, dtype=float, order='C')  # 创建空矩阵\n",
    "sum_month_1998to2021 = sum_month\n",
    "count = 0\n",
    "ls_first = []\n",
    "mean_1998to2021 = sum_month\n",
    "for i in range(612, 899): \n",
    "    temp_pre = rhum[i:i+1,3:4].data[0][:,:]\n",
    "#     ls_first.append(sst[i:i+1].data[0][:1,-1:])\n",
    "    sum_month_1998to2021 += temp_pre\n",
    "    count += 1\n",
    "mean_1998to2021 = sum_month_1998to2021 / num_month_2021to1998\n",
    "\n",
    "diff = mean_1998to2021 - mean_1982to1997"
   ]
  },
  {
   "cell_type": "code",
   "execution_count": 186,
   "metadata": {},
   "outputs": [],
   "source": [
    "# 确定时间是从1月开始计算\n",
    "# 一年月时间为[31.0,28.0, 31.0, 30.0, 31.0, 30.0, 31.0, 31.0, 30.0, 31.0, 30.0, 31.0]\n",
    "ls = []\n",
    "for i in range(420, 612):\n",
    "    tmp = time[i+1] - time[i]\n",
    "    ls.append(tmp/24)\n",
    "    \n"
   ]
  },
  {
   "cell_type": "code",
   "execution_count": 33,
   "metadata": {
    "scrolled": true
   },
   "outputs": [
    {
     "name": "stdout",
     "output_type": "stream",
     "text": [
      "-11.09969954837235 12.124859734824426\n"
     ]
    }
   ],
   "source": [
    "print(diff.min(), diff.max())"
   ]
  },
  {
   "cell_type": "code",
   "execution_count": 37,
   "metadata": {},
   "outputs": [
    {
     "name": "stdout",
     "output_type": "stream",
     "text": [
      "73\n"
     ]
    },
    {
     "data": {
      "image/png": "[encoded data removed]",
      "text/plain": [
       "<Figure size 1080x360 with 2 Axes>"
      ]
     },
     "metadata": {
      "needs_background": "light"
     },
     "output_type": "display_data"
    }
   ],
   "source": [
    "from matplotlib import colors,cm\n",
    "import matplotlib as mpl\n",
    "import cmaps\n",
    "from matplotlib.colors import ListedColormap \n",
    "\n",
    "from matplotlib import rcParams\n",
    "from matplotlib import patches\n",
    "\n",
    "# 设置字体\n",
    "config = {\n",
    "    \"font.family\": 'Times New Roman',\n",
    "    \"font.size\": 16,\n",
    "    \"mathtext.fontset\":'stix',\n",
    "    'axes.unicode_minus': False \n",
    "         }\n",
    "rcParams.update(config)\n",
    "\n",
    "MAX = 12.01\n",
    "MIN = -12\n",
    "INTER = 2\n",
    "\n",
    "# 设置经纬度\n",
    "# lon = longitude[:].data\n",
    "lon = np.append(longitude[:].data, [360.0])\n",
    "lat = latitude[:].data\n",
    "\n",
    "print(len(lat))\n",
    "# 调整经纬度 向东偏移180\n",
    "# lon_pacific = lon[:] + 180\n",
    "# a, b = np.hsplit(diff, [179])\n",
    "# diff_pacific_contre = np.concatenate([b, a], axis=1) # 转换为以太平洋为中心的数据\n",
    "diff_2d = diff[0]\n",
    "new_diff=[]\n",
    "for i in range(diff_2d.shape[0]):\n",
    "    tmp = np.append(diff_2d[i], diff_2d[i][0])\n",
    "    new_diff.append(tmp.tolist())\n",
    "new_diff = np.array(new_diff)\n",
    "\n",
    "fig = plt.figure(figsize=(15,5))\n",
    "\n",
    "proj = ccrs.PlateCarree(central_longitude=180)\n",
    "# proj = ccrs.PlateCarree()\n",
    "leftlon, rightlon, lowerlat, upperlat = (120,240, -40, 0)\n",
    "lon_formatter = cticker.LongitudeFormatter()\n",
    "lat_formatter = cticker.LatitudeFormatter()\n",
    "fig_ax1 = fig.add_axes([0, 0, 1, 1],projection = proj)\n",
    "\n",
    "fig_ax1.set_extent([leftlon, rightlon, lowerlat, upperlat], crs=ccrs.PlateCarree())\n",
    "land = cfeature.NaturalEarthFeature('physical','land','50m',edgecolor='face', facecolor=cfeature.COLORS['land'])\n",
    "fig_ax1.add_feature(land,facecolor='0.75')\n",
    "fig_ax1.add_feature(cfeature.COASTLINE.with_scale('50m'))\n",
    "fig_ax1.set_xticks([ -150, -120, 120, 150, 180], crs=ccrs.PlateCarree())\n",
    "fig_ax1.set_yticks(np.arange(-40,1,10), crs=ccrs.PlateCarree())\n",
    "fig_ax1.grid() # 增加网格\n",
    "\n",
    "fig_ax1.xaxis.set_major_formatter(lon_formatter)\n",
    "fig_ax1.yaxis.set_major_formatter(lat_formatter)\n",
    "\n",
    "fig_ax1.set_title('(b) RH shift',loc='left',fontsize =16, fontweight='bold')\n",
    "\n",
    "cont = fig_ax1.contourf(lon, lat, new_diff, \n",
    "                 levels=np.arange(MIN, MAX, INTER), # 颜色分片\n",
    "                        zorder=0,\n",
    "                transform=ccrs.PlateCarree(),cmap=plt.cm.RdBu_r)\n",
    "# fig_ax1.contourf(lon, lat, diff,levels=[0,0.05,1], zorder=1, hatches=['....',None],colors=\"none\", transform=ccrs.PlateCarree())\n",
    "\n",
    "black_quarter = patches.Rectangle((146,-24),71,19,linestyle = 'dashed', \n",
    "                                  lw=4, edgecolor='black', facecolor='none',transform=ccrs.PlateCarree())\n",
    "fig_ax1.add_patch(black_quarter)\n",
    "\n",
    "norm = colors.Normalize(vmin=MIN, vmax=MAX)    #确定colormap的最大最小值\n",
    "\n",
    "cmap=plt.cm.RdBu_r  #引用NCL的colormap\n",
    "\n",
    "# newcolors=cmap(np.linspace(-14,15,9))#分片操作，生成0到1的12个数据间隔的数组   \n",
    "\n",
    "# newcmap=ListedColormap(newcolors[::])  #重构为新的colormap\n",
    "\n",
    "fc1=fig.colorbar(mpl.cm.ScalarMappable(norm=norm,\n",
    "                                       cmap=plt.cm.RdBu_r\n",
    "#                                        cmap = newcmap\n",
    "                                      ),\n",
    "#                  cax = fig.add_axes([0,0,0.05,0.9]),\n",
    "                 orientation='vertical',\n",
    "                 ticks=np.arange(MIN, MAX, INTER).tolist(), # colorbar分片                                                 \n",
    "                 extend='both',\n",
    "                fraction=0.0158) \n",
    "\n",
    "# plt.colorbar(cont,fraction=0.012)\n",
    "\n",
    "plt.savefig(\"rh_20231204.png\",dpi=300,bbox_inches='tight')\n",
    "plt.show()"
   ]
  },
  {
   "cell_type": "code",
   "execution_count": 318,
   "metadata": {},
   "outputs": [],
   "source": [
    "diff_2d = diff[0]\n",
    "new_diff=[]\n",
    "for i in range(diff_2d.shape[0]):\n",
    "    tmp = np.append(diff_2d[i], diff_2d[i][0])\n",
    "    new_diff.append(tmp.tolist())\n",
    "new_diff = np.array(new_diff)"
   ]
  },
  {
   "cell_type": "code",
   "execution_count": 324,
   "metadata": {},
   "outputs": [
    {
     "data": {
      "text/plain": [
       "array([[ 3.75077195e-01],\n",
       "       [ 1.49002541e+00],\n",
       "       [ 9.37403176e-02],\n",
       "       [-4.14718231e-01],\n",
       "       [-1.35160662e+00],\n",
       "       [-1.19115846e+00],\n",
       "       [-6.69007328e-01],\n",
       "       [-1.23039231e+00],\n",
       "       [-1.76958479e+00],\n",
       "       [-8.56280353e-01],\n",
       "       [-1.29055753e+00],\n",
       "       [-2.73414720e+00],\n",
       "       [-1.56742235e+00],\n",
       "       [-1.94118794e+00],\n",
       "       [-2.31703949e+00],\n",
       "       [-4.75094040e-01],\n",
       "       [-2.38159961e-01],\n",
       "       [-5.93695376e-01],\n",
       "       [-2.54252990e-01],\n",
       "       [ 2.15683579e-01],\n",
       "       [ 8.80631142e-01],\n",
       "       [ 8.33944480e-03],\n",
       "       [-1.79987695e+00],\n",
       "       [-2.06926825e+00],\n",
       "       [-9.58891140e-01],\n",
       "       [ 9.43367283e-02],\n",
       "       [ 1.16153384e+00],\n",
       "       [ 2.08048392e+00],\n",
       "       [ 3.27435108e+00],\n",
       "       [ 4.39966225e+00],\n",
       "       [ 3.99318569e+00],\n",
       "       [ 2.67184301e+00],\n",
       "       [ 1.20261498e+00],\n",
       "       [ 1.32940290e+00],\n",
       "       [ 2.18533480e+00],\n",
       "       [ 1.41467994e+00],\n",
       "       [-2.50488215e-01],\n",
       "       [-1.15606632e+00],\n",
       "       [-1.02915123e+00],\n",
       "       [-6.27296964e-01],\n",
       "       [-1.15818439e+00],\n",
       "       [-3.14491670e+00],\n",
       "       [-5.44682609e+00],\n",
       "       [-5.87476643e+00],\n",
       "       [-4.76166691e+00],\n",
       "       [-3.67522383e+00],\n",
       "       [-3.09913935e+00],\n",
       "       [-2.92108766e+00],\n",
       "       [-2.90181731e+00],\n",
       "       [-2.92395706e+00],\n",
       "       [-2.72708255e+00],\n",
       "       [-2.07488400e+00],\n",
       "       [-4.34025195e-01],\n",
       "       [ 5.15491260e-01],\n",
       "       [-1.94590555e-01],\n",
       "       [-1.65456682e+00],\n",
       "       [-2.43111238e+00],\n",
       "       [-2.36154962e+00],\n",
       "       [-2.43570107e+00],\n",
       "       [-2.07993309e+00],\n",
       "       [-1.52001381e+00],\n",
       "       [-1.95799865e+00],\n",
       "       [-1.67691849e+00],\n",
       "       [ 7.15578808e-01],\n",
       "       [ 3.90699751e+00],\n",
       "       [ 7.52069090e+00],\n",
       "       [ 1.34008808e+00],\n",
       "       [ 3.59785279e+00],\n",
       "       [ 7.32414881e+00],\n",
       "       [ 8.91956528e+00],\n",
       "       [ 6.12045899e+00],\n",
       "       [ 1.18473303e+01],\n",
       "       [ 5.68013124e+00]])"
      ]
     },
     "execution_count": 324,
     "metadata": {},
     "output_type": "execute_result"
    }
   ],
   "source": [
    "new_diff[:,-1:]"
   ]
  },
  {
   "cell_type": "code",
   "execution_count": 323,
   "metadata": {},
   "outputs": [
    {
     "data": {
      "text/plain": [
       "array([[ 3.75077195e-01],\n",
       "       [ 1.49002541e+00],\n",
       "       [ 9.37403176e-02],\n",
       "       [-4.14718231e-01],\n",
       "       [-1.35160662e+00],\n",
       "       [-1.19115846e+00],\n",
       "       [-6.69007328e-01],\n",
       "       [-1.23039231e+00],\n",
       "       [-1.76958479e+00],\n",
       "       [-8.56280353e-01],\n",
       "       [-1.29055753e+00],\n",
       "       [-2.73414720e+00],\n",
       "       [-1.56742235e+00],\n",
       "       [-1.94118794e+00],\n",
       "       [-2.31703949e+00],\n",
       "       [-4.75094040e-01],\n",
       "       [-2.38159961e-01],\n",
       "       [-5.93695376e-01],\n",
       "       [-2.54252990e-01],\n",
       "       [ 2.15683579e-01],\n",
       "       [ 8.80631142e-01],\n",
       "       [ 8.33944480e-03],\n",
       "       [-1.79987695e+00],\n",
       "       [-2.06926825e+00],\n",
       "       [-9.58891140e-01],\n",
       "       [ 9.43367283e-02],\n",
       "       [ 1.16153384e+00],\n",
       "       [ 2.08048392e+00],\n",
       "       [ 3.27435108e+00],\n",
       "       [ 4.39966225e+00],\n",
       "       [ 3.99318569e+00],\n",
       "       [ 2.67184301e+00],\n",
       "       [ 1.20261498e+00],\n",
       "       [ 1.32940290e+00],\n",
       "       [ 2.18533480e+00],\n",
       "       [ 1.41467994e+00],\n",
       "       [-2.50488215e-01],\n",
       "       [-1.15606632e+00],\n",
       "       [-1.02915123e+00],\n",
       "       [-6.27296964e-01],\n",
       "       [-1.15818439e+00],\n",
       "       [-3.14491670e+00],\n",
       "       [-5.44682609e+00],\n",
       "       [-5.87476643e+00],\n",
       "       [-4.76166691e+00],\n",
       "       [-3.67522383e+00],\n",
       "       [-3.09913935e+00],\n",
       "       [-2.92108766e+00],\n",
       "       [-2.90181731e+00],\n",
       "       [-2.92395706e+00],\n",
       "       [-2.72708255e+00],\n",
       "       [-2.07488400e+00],\n",
       "       [-4.34025195e-01],\n",
       "       [ 5.15491260e-01],\n",
       "       [-1.94590555e-01],\n",
       "       [-1.65456682e+00],\n",
       "       [-2.43111238e+00],\n",
       "       [-2.36154962e+00],\n",
       "       [-2.43570107e+00],\n",
       "       [-2.07993309e+00],\n",
       "       [-1.52001381e+00],\n",
       "       [-1.95799865e+00],\n",
       "       [-1.67691849e+00],\n",
       "       [ 7.15578808e-01],\n",
       "       [ 3.90699751e+00],\n",
       "       [ 7.52069090e+00],\n",
       "       [ 1.34008808e+00],\n",
       "       [ 3.59785279e+00],\n",
       "       [ 7.32414881e+00],\n",
       "       [ 8.91956528e+00],\n",
       "       [ 6.12045899e+00],\n",
       "       [ 1.18473303e+01],\n",
       "       [ 5.68013124e+00]])"
      ]
     },
     "execution_count": 323,
     "metadata": {},
     "output_type": "execute_result"
    }
   ],
   "source": [
    "diff[0][:,:1]"
   ]
  },
  {
   "cell_type": "code",
   "execution_count": null,
   "metadata": {},
   "outputs": [],
   "source": []
  },
  {
   "cell_type": "code",
   "execution_count": null,
   "metadata": {},
   "outputs": [],
   "source": []
  },
  {
   "cell_type": "code",
   "execution_count": null,
   "metadata": {},
   "outputs": [],
   "source": []
  },
  {
   "cell_type": "code",
   "execution_count": null,
   "metadata": {},
   "outputs": [],
   "source": []
  },
  {
   "cell_type": "code",
   "execution_count": null,
   "metadata": {},
   "outputs": [],
   "source": []
  },
  {
   "cell_type": "code",
   "execution_count": null,
   "metadata": {},
   "outputs": [],
   "source": []
  },
  {
   "cell_type": "code",
   "execution_count": null,
   "metadata": {},
   "outputs": [],
   "source": []
  },
  {
   "cell_type": "code",
   "execution_count": null,
   "metadata": {},
   "outputs": [],
   "source": []
  },
  {
   "cell_type": "code",
   "execution_count": null,
   "metadata": {},
   "outputs": [],
   "source": []
  },
  {
   "cell_type": "code",
   "execution_count": null,
   "metadata": {},
   "outputs": [],
   "source": []
  }
 ],
 "metadata": {
  "kernelspec": {
   "display_name": "Python 3 (ipykernel)",
   "language": "python",
   "name": "python3"
  },
  "language_info": {
   "codemirror_mode": {
    "name": "ipython",
    "version": 3
   },
   "file_extension": ".py",
   "mimetype": "text/x-python",
   "name": "python",
   "nbconvert_exporter": "python",
   "pygments_lexer": "ipython3",
   "version": "3.9.7"
  }
 },
 "nbformat": 4,
 "nbformat_minor": 4
}
