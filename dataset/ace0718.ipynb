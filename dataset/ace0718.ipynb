{
 "cells": [
  {
   "cell_type": "code",
   "execution_count": 1,
   "metadata": {},
   "outputs": [],
   "source": [
    "import math\n",
    "import numpy as np  # 引入numpy、pandas库\n",
    "import pandas as pd\n",
    "from dbfread import DBF\n",
    "from pandas import DataFrame\n",
    "from IPython.display import display\n",
    "pd.options.display.max_columns = None\n",
    "import matplotlib.pyplot as plt\n",
    "\n",
    "import seaborn as sns\n",
    "\n",
    "path_1 = \"./SI.dbf\"\n",
    "\n",
    "df_raw1 = pd.DataFrame(iter(DBF(path_1)))"
   ]
  },
  {
   "cell_type": "code",
   "execution_count": null,
   "metadata": {},
   "outputs": [],
   "source": [
    "def max_wind_sum_of_square(ls):\n",
    "    nums = 0\n",
    "    for tmp in ls:\n",
    "        if np.isnan(tmp) == True:\n",
    "            continue\n",
    "        else:\n",
    "            nums += tmp**2\n",
    "    return nums"
   ]
  },
  {
   "cell_type": "code",
   "execution_count": 2,
   "metadata": {},
   "outputs": [],
   "source": [
    "df = df_raw1[(df_raw1['USA_STATUS'] != \"EX\") \n",
    "            & (df_raw1['USA_STATUS'] != \"SS\") \n",
    "            & (df_raw1['USA_STATUS'] != \"PT\") \n",
    "            & (df_raw1['USA_STATUS'] != \"IN\")\n",
    "            & (df_raw1['USA_STATUS'] != \"DS\") \n",
    "            & (df_raw1['USA_STATUS'] != \"WV\")\n",
    "            & (df_raw1['USA_STATUS'] != \"ET\") \n",
    "            & (df_raw1['USA_STATUS'] != \"MD\") \n",
    "            & (df_raw1['USA_STATUS'] != \"XX\")]# 去掉表格属性USA_STATUS为EX的数据"
   ]
  },
  {
   "cell_type": "code",
   "execution_count": 3,
   "metadata": {},
   "outputs": [],
   "source": [
    "df_MoreThan35 = df[(df['USA_WIND'] >= 35)]"
   ]
  },
  {
   "cell_type": "code",
   "execution_count": null,
   "metadata": {},
   "outputs": [],
   "source": [
    "df_year2next = df_MoreThan35[((df_MoreThan35['year'] == 1976) & (df_MoreThan35['month'] >= 7)) \n",
    "   | ((df_MoreThan35['year'] == 1976+1) & (df_MoreThan35['month'] <= 6))]"
   ]
  },
  {
   "cell_type": "code",
   "execution_count": 20,
   "metadata": {},
   "outputs": [
    {
     "data": {
      "text/plain": [
       "1769454.5"
      ]
     },
     "execution_count": 20,
     "metadata": {},
     "output_type": "execute_result"
    }
   ],
   "source": [
    "def TwoMax(a, b):\n",
    "    if a >= b:\n",
    "        return a\n",
    "    else:\n",
    "        return b\n",
    "df_year2next = df_MoreThan35[((df_MoreThan35['year'] == 1983) & (df_MoreThan35['month'] >= 7)) \n",
    "   | ((df_MoreThan35['year'] == 1983+1) & (df_MoreThan35['month'] <= 6))]\n",
    "lst = df_year2next['USA_WIND'].values.tolist()\n",
    "length = len(lst)\n",
    "if length % 2 == 0:\n",
    "    SumAce = 0\n",
    "    for i in range(0, len(lst), 2):\n",
    "        tmp = TwoMax(lst[i], lst[i+1])\n",
    "        SumAce += tmp ** 2\n",
    "elif length % 2 == 1:\n",
    "    SumAce = 0\n",
    "    for i in range(0, length-1, 2):\n",
    "        tmp = TwoMax(lst[i], lst[i+1])\n",
    "        SumAce += tmp ** 2\n",
    "    SumAce += (lst[length-1] ** 2) * 0.5\n",
    "    \n",
    "SumAce"
   ]
  },
  {
   "cell_type": "code",
   "execution_count": 21,
   "metadata": {},
   "outputs": [
    {
     "data": {
      "text/plain": [
       "109844    0\n",
       "109845    0\n",
       "109846    0\n",
       "109847    0\n",
       "109848    0\n",
       "         ..\n",
       "111867    0\n",
       "111868    0\n",
       "111869    0\n",
       "111870    0\n",
       "111871    0\n",
       "Name: hour, Length: 851, dtype: int64"
      ]
     },
     "execution_count": 21,
     "metadata": {},
     "output_type": "execute_result"
    }
   ],
   "source": [
    "df_year2next.hour.apply(lambda x: True if df_year2next['hour']%3)"
   ]
  },
  {
   "cell_type": "code",
   "execution_count": 18,
   "metadata": {
    "scrolled": true
   },
   "outputs": [
    {
     "name": "stdout",
     "output_type": "stream",
     "text": [
      "The 1976 year 7 month to 1977 year 6 month ACE is 441577.500!\n",
      "The 1977 year 7 month to 1978 year 6 month ACE is 1057016.500!\n",
      "The 1978 year 7 month to 1979 year 6 month ACE is 372563.500!\n",
      "The 1979 year 7 month to 1980 year 6 month ACE is 1909930.000!\n",
      "The 1980 year 7 month to 1981 year 6 month ACE is 922609.000!\n",
      "The 1981 year 7 month to 1982 year 6 month ACE is 1107463.000!\n",
      "The 1982 year 7 month to 1983 year 6 month ACE is 386294.000!\n",
      "The 1983 year 7 month to 1984 year 6 month ACE is 1769454.500!\n",
      "The 1984 year 7 month to 1985 year 6 month ACE is 0.000!\n",
      "The 1985 year 7 month to 1986 year 6 month ACE is 1601518.000!\n",
      "The 1986 year 7 month to 1987 year 6 month ACE is 553485.000!\n",
      "The 1987 year 7 month to 1988 year 6 month ACE is 805262.000!\n",
      "The 1988 year 7 month to 1989 year 6 month ACE is 1661928.500!\n",
      "The 1989 year 7 month to 1990 year 6 month ACE is 1671954.500!\n",
      "The 1990 year 7 month to 1991 year 6 month ACE is 1105031.500!\n",
      "The 1991 year 7 month to 1992 year 6 month ACE is 1634055.500!\n",
      "The 1992 year 7 month to 1993 year 6 month ACE is 893377.500!\n",
      "The 1993 year 7 month to 1994 year 6 month ACE is 2356347.000!\n",
      "The 1994 year 7 month to 1995 year 6 month ACE is 1472586.000!\n",
      "The 1995 year 7 month to 1996 year 6 month ACE is 3081241.000!\n",
      "The 1996 year 7 month to 1997 year 6 month ACE is 2847905.000!\n",
      "The 1997 year 7 month to 1998 year 6 month ACE is 1041233.000!\n",
      "The 1998 year 7 month to 1999 year 6 month ACE is 2673415.500!\n",
      "The 1999 year 7 month to 2000 year 6 month ACE is 2608212.500!\n",
      "The 2000 year 7 month to 2001 year 6 month ACE is 1279401.000!\n",
      "The 2001 year 7 month to 2002 year 6 month ACE is 1909369.000!\n",
      "The 2002 year 7 month to 2003 year 6 month ACE is 1615568.500!\n",
      "The 2003 year 7 month to 2004 year 6 month ACE is 1825277.500!\n",
      "The 2004 year 7 month to 2005 year 6 month ACE is 1605299.000!\n",
      "The 2005 year 7 month to 2006 year 6 month ACE is 1321508.000!\n",
      "The 2006 year 7 month to 2007 year 6 month ACE is 1699449.000!\n",
      "The 2007 year 7 month to 2008 year 6 month ACE is 1609031.000!\n",
      "The 2008 year 7 month to 2009 year 6 month ACE is 849003.500!\n",
      "The 2009 year 7 month to 2010 year 6 month ACE is 1121574.500!\n",
      "The 2010 year 7 month to 2011 year 6 month ACE is 848075.000!\n",
      "The 2011 year 7 month to 2012 year 6 month ACE is 1348979.000!\n",
      "The 2012 year 7 month to 2013 year 6 month ACE is 1338146.000!\n",
      "The 2013 year 7 month to 2014 year 6 month ACE is 1494688.000!\n",
      "The 2014 year 7 month to 2015 year 6 month ACE is 1717754.000!\n",
      "The 2015 year 7 month to 2016 year 6 month ACE is 1009768.000!\n",
      "The 2016 year 7 month to 2017 year 6 month ACE is 633210.000!\n",
      "The 2017 year 7 month to 2018 year 6 month ACE is 1348715.000!\n",
      "The 2018 year 7 month to 2019 year 6 month ACE is 2299296.500!\n",
      "The 2019 year 7 month to 2020 year 6 month ACE is 966840.000!\n",
      "The 2020 year 7 month to 2021 year 6 month ACE is 1443370.500!\n",
      "The 2021 year 7 month to 2022 year 6 month ACE is 825335.500!\n"
     ]
    }
   ],
   "source": [
    "ACE = []\n",
    "for year in range(1976, 2022):\n",
    "    df_year2next = df_MoreThan35[((df_MoreThan35['year'] == year) & (df_MoreThan35['month'] >= 7)) \n",
    "   | ((df_MoreThan35['year'] == year+1) & (df_MoreThan35['month'] <= 6))]\n",
    "    lst = df_year2next['USA_WIND'].values.tolist()\n",
    "    length = len(lst)\n",
    "    if length % 2 == 0:\n",
    "        SumAce = 0\n",
    "        for i in range(0, length, 2):\n",
    "            tmp = TwoMax(lst[i], lst[i+1])\n",
    "            SumAce += tmp ** 2\n",
    "    elif length % 2 == 1:\n",
    "        SumAce = 0\n",
    "        for i in range(0, length-1, 2):\n",
    "            tmp = TwoMax(lst[i], lst[i+1])\n",
    "            SumAce += tmp ** 2\n",
    "        SumAce += (lst[length-1] ** 2) * 0.5\n",
    "    ACE.append(SumAce)\n",
    "    print(\"The %d year 7 month to %d year 6 month ACE is %.3f!\"%(year, year+1, SumAce))"
   ]
  },
  {
   "cell_type": "code",
   "execution_count": 19,
   "metadata": {},
   "outputs": [],
   "source": [
    "ace = pd.DataFrame(ACE)\n",
    "ace.to_excel(\"./ACE SP.xlsx\")  # 存储到excel中"
   ]
  },
  {
   "cell_type": "code",
   "execution_count": null,
   "metadata": {},
   "outputs": [],
   "source": []
  },
  {
   "cell_type": "code",
   "execution_count": null,
   "metadata": {},
   "outputs": [],
   "source": []
  }
 ],
 "metadata": {
  "kernelspec": {
   "display_name": "Python 3 (ipykernel)",
   "language": "python",
   "name": "python3"
  },
  "language_info": {
   "codemirror_mode": {
    "name": "ipython",
    "version": 3
   },
   "file_extension": ".py",
   "mimetype": "text/x-python",
   "name": "python",
   "nbconvert_exporter": "python",
   "pygments_lexer": "ipython3",
   "version": "3.7.6"
  }
 },
 "nbformat": 4,
 "nbformat_minor": 2
}
