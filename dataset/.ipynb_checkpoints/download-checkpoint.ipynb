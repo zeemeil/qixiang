{
 "cells": [
  {
   "cell_type": "code",
   "execution_count": 2,
   "metadata": {},
   "outputs": [],
   "source": [
    "from __future__ import absolute_import\n",
    "from __future__ import division\n",
    "from __future__ import print_function\n",
    "import os\n",
    "import numpy as np\n",
    "import requests\n",
    "import pandas as pd\n",
    "import stat\n",
    "import zipfile\n",
    "from pandas import DataFrame, Series\n"
   ]
  },
  {
   "cell_type": "code",
   "execution_count": 3,
   "metadata": {},
   "outputs": [],
   "source": [
    "SOURCE_URL = 'https://www.ncei.noaa.gov/data/international-best-track-archive-for-climate-stewardship-ibtracs/v04r00/access/shapefile/'\n",
    "wp_wind = 'IBTrACS.since1980.list.v04r00.lines.zip'\n"
   ]
  },
  {
   "cell_type": "code",
   "execution_count": null,
   "metadata": {},
   "outputs": [],
   "source": [
    "response = requests.get(SOURCE_URL+wp_wind)\n",
    "\n",
    "filename = wp_wind\n",
    "\n",
    "chartname = 'IBTrACS.since1980.list.v04r00.lines.dbf'\n",
    "\n",
    "filepath = os.path.join(\"./data/\", filename)\n",
    "\n",
    "chartpath = os.path.join(\"./data/\", chartname)\n",
    "if(os.path.exists(filename)):\n",
    "    print(\"File is exist, filepath is: %s\" %filepath)\n",
    "else:\n",
    "    with open(filename, 'wb') as output_file:\n",
    "        output_file.write(response.content)\n",
    "    print(\"File download\")\n",
    "\n",
    "os.chmod(\"./data/\"+wp_wind, 0o777)\n",
    "\n",
    "if(os.path.exists()):\n",
    "    print(\"Chart is exist, path is %s\" %chartpath)\n",
    "else:\n",
    "    with zipfile.ZipFile(filename, 'r') as zipObject:\n",
    "        zipObject.extractall()\n",
    "    print(\"Chart is prepared\")\n",
    "    \n"
   ]
  },
  {
   "cell_type": "code",
   "execution_count": null,
   "metadata": {},
   "outputs": [],
   "source": []
  }
 ],
 "metadata": {
  "kernelspec": {
   "display_name": "Python 3 (ipykernel)",
   "language": "python",
   "name": "python3"
  },
  "language_info": {
   "codemirror_mode": {
    "name": "ipython",
    "version": 3
   },
   "file_extension": ".py",
   "mimetype": "text/x-python",
   "name": "python",
   "nbconvert_exporter": "python",
   "pygments_lexer": "ipython3",
   "version": "3.7.6"
  }
 },
 "nbformat": 4,
 "nbformat_minor": 4
}
