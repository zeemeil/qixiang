{
 "cells": [
  {
   "cell_type": "code",
   "execution_count": 1,
   "metadata": {},
   "outputs": [],
   "source": [
    "import numpy as np  # 引入numpy、pandas库\n",
    "import pandas as pd\n",
    "from dbfread import DBF\n",
    "from pandas import DataFrame\n",
    "from IPython.display import display\n",
    "pd.options.display.max_columns = None\n",
    "\n",
    "path = \"./SI.dbf\"\n",
    "\n",
    "def classification(typh_intensity):\n",
    "    if typh_intensity >= 1 and typh_intensity <= 34:\n",
    "        result = 'D'\n",
    "    elif typh_intensity > 34 and typh_intensity <= 63:\n",
    "        result = 'S'\n",
    "    elif typh_intensity > 63 and typh_intensity <= 82:\n",
    "        result = 'C1'\n",
    "    elif typh_intensity > 82 and typh_intensity <= 95:\n",
    "        result = 'C2'\n",
    "    elif typh_intensity > 95 and typh_intensity <= 112:\n",
    "        result = 'C3'\n",
    "    elif typh_intensity > 112 and typh_intensity <= 136:\n",
    "        result = 'C4'        \n",
    "    elif typh_intensity > 136:\n",
    "        result = 'C5'\n",
    "    else:\n",
    "        result = \"WRONG\"\n",
    "    return result\n",
    "\n",
    "df_raw = pd.DataFrame(iter(DBF(path)))\n",
    "\n",
    "df = df_raw"
   ]
  },
  {
   "cell_type": "code",
   "execution_count": 2,
   "metadata": {},
   "outputs": [],
   "source": [
    "df_drop_usa_state = df[(df['USA_STATUS'] != \"EX\") \n",
    "            & (df['USA_STATUS'] != \"SS\") \n",
    "            & (df['USA_STATUS'] != \"PT\") \n",
    "            & (df['USA_STATUS'] != \"IN\")\n",
    "            & (df['USA_STATUS'] != \"DS\") \n",
    "            & (df['USA_STATUS'] != \"WV\")\n",
    "            & (df['USA_STATUS'] != \"ET\") \n",
    "            & (df['USA_STATUS'] != \"MD\") \n",
    "            & (df['USA_STATUS'] != \"XX\")]# 去掉表格属性USA_STATUS为EX....的数据"
   ]
  },
  {
   "cell_type": "code",
   "execution_count": 18,
   "metadata": {
    "scrolled": true
   },
   "outputs": [],
   "source": [
    "df_MoreThan35 = df_drop_usa_state[(df_drop_usa_state['USA_WIND'] >= 35)]"
   ]
  },
  {
   "cell_type": "code",
   "execution_count": 29,
   "metadata": {
    "scrolled": true
   },
   "outputs": [
    {
     "name": "stdout",
     "output_type": "stream",
     "text": [
      "The 1976 year 7 month to 1977 year 6 month typhone has 27.875 days!\n",
      "The 1977 year 7 month to 1978 year 6 month typhone has 53.625 days!\n",
      "The 1978 year 7 month to 1979 year 6 month typhone has 34.625 days!\n",
      "The 1979 year 7 month to 1980 year 6 month typhone has 113.750 days!\n",
      "The 1980 year 7 month to 1981 year 6 month typhone has 59.500 days!\n",
      "The 1981 year 7 month to 1982 year 6 month typhone has 73.250 days!\n",
      "The 1982 year 7 month to 1983 year 6 month typhone has 35.250 days!\n",
      "The 1983 year 7 month to 1984 year 6 month typhone has 106.375 days!\n",
      "The 1984 year 7 month to 1985 year 6 month typhone has 0.000 days!\n",
      "The 1985 year 7 month to 1986 year 6 month typhone has 99.625 days!\n",
      "The 1986 year 7 month to 1987 year 6 month typhone has 59.500 days!\n",
      "The 1987 year 7 month to 1988 year 6 month typhone has 56.000 days!\n",
      "The 1988 year 7 month to 1989 year 6 month typhone has 82.375 days!\n",
      "The 1989 year 7 month to 1990 year 6 month typhone has 97.875 days!\n",
      "The 1990 year 7 month to 1991 year 6 month typhone has 71.125 days!\n",
      "The 1991 year 7 month to 1992 year 6 month typhone has 68.875 days!\n",
      "The 1992 year 7 month to 1993 year 6 month typhone has 56.375 days!\n",
      "The 1993 year 7 month to 1994 year 6 month typhone has 121.000 days!\n",
      "The 1994 year 7 month to 1995 year 6 month typhone has 79.500 days!\n",
      "The 1995 year 7 month to 1996 year 6 month typhone has 141.000 days!\n",
      "The 1996 year 7 month to 1997 year 6 month typhone has 169.250 days!\n",
      "The 1997 year 7 month to 1998 year 6 month typhone has 77.750 days!\n",
      "The 1998 year 7 month to 1999 year 6 month typhone has 122.875 days!\n",
      "The 1999 year 7 month to 2000 year 6 month typhone has 133.875 days!\n",
      "The 2000 year 7 month to 2001 year 6 month typhone has 73.000 days!\n",
      "The 2001 year 7 month to 2002 year 6 month typhone has 85.500 days!\n",
      "The 2002 year 7 month to 2003 year 6 month typhone has 82.375 days!\n",
      "The 2003 year 7 month to 2004 year 6 month typhone has 96.125 days!\n",
      "The 2004 year 7 month to 2005 year 6 month typhone has 72.375 days!\n",
      "The 2005 year 7 month to 2006 year 6 month typhone has 62.500 days!\n",
      "The 2006 year 7 month to 2007 year 6 month typhone has 77.500 days!\n",
      "The 2007 year 7 month to 2008 year 6 month typhone has 101.500 days!\n",
      "The 2008 year 7 month to 2009 year 6 month typhone has 61.625 days!\n",
      "The 2009 year 7 month to 2010 year 6 month typhone has 60.125 days!\n",
      "The 2010 year 7 month to 2011 year 6 month typhone has 61.750 days!\n",
      "The 2011 year 7 month to 2012 year 6 month typhone has 80.750 days!\n",
      "The 2012 year 7 month to 2013 year 6 month typhone has 73.000 days!\n",
      "The 2013 year 7 month to 2014 year 6 month typhone has 67.000 days!\n",
      "The 2014 year 7 month to 2015 year 6 month typhone has 84.250 days!\n",
      "The 2015 year 7 month to 2016 year 6 month typhone has 43.250 days!\n",
      "The 2016 year 7 month to 2017 year 6 month typhone has 45.250 days!\n",
      "The 2017 year 7 month to 2018 year 6 month typhone has 73.000 days!\n",
      "The 2018 year 7 month to 2019 year 6 month typhone has 106.125 days!\n",
      "The 2019 year 7 month to 2020 year 6 month typhone has 62.750 days!\n",
      "The 2020 year 7 month to 2021 year 6 month typhone has 87.875 days!\n",
      "The 2021 year 7 month to 2022 year 6 month typhone has 41.375 days!\n"
     ]
    }
   ],
   "source": [
    "ls = []\n",
    "for year in range(1976, 2022):\n",
    "    df_year2next = df_MoreThan35[((df_MoreThan35['year'] == year) & (df_MoreThan35['month'] >= 7)) \n",
    "   | ((df_MoreThan35['year'] == year+1) & (df_MoreThan35['month'] <= 6))]\n",
    "    day = df_year2next.shape[0] * 3 / 24\n",
    "    ls.append(day)\n",
    "    print(\"The %d year 7 month to %d year 6 month typhone has %.3f days!\"%(year, year+1, day))"
   ]
  },
  {
   "cell_type": "code",
   "execution_count": 31,
   "metadata": {},
   "outputs": [],
   "source": [
    "ls = pd.DataFrame(ls)\n",
    "ls.to_excel(\"./DSP.xlsx\")"
   ]
  },
  {
   "cell_type": "code",
   "execution_count": null,
   "metadata": {},
   "outputs": [],
   "source": []
  },
  {
   "cell_type": "code",
   "execution_count": null,
   "metadata": {},
   "outputs": [],
   "source": []
  },
  {
   "cell_type": "code",
   "execution_count": null,
   "metadata": {},
   "outputs": [],
   "source": []
  }
 ],
 "metadata": {
  "kernelspec": {
   "display_name": "Python 3 (ipykernel)",
   "language": "python",
   "name": "python3"
  },
  "language_info": {
   "codemirror_mode": {
    "name": "ipython",
    "version": 3
   },
   "file_extension": ".py",
   "mimetype": "text/x-python",
   "name": "python",
   "nbconvert_exporter": "python",
   "pygments_lexer": "ipython3",
   "version": "3.7.6"
  }
 },
 "nbformat": 4,
 "nbformat_minor": 2
}
