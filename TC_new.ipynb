{
 "cells": [
  {
   "cell_type": "code",
   "execution_count": 1,
   "metadata": {},
   "outputs": [],
   "source": [
    "import numpy as np  \n",
    "import pandas as pd\n",
    "import xarray as xr\n",
    "from dbfread import DBF\n",
    "import dbf\n",
    "from scipy.stats import linregress\n",
    "import matplotlib.pyplot as plt\n",
    "from matplotlib import rcParams\n",
    "import cartopy.crs as ccrs\n",
    "import cartopy.feature as cfeature\n",
    "from cartopy.mpl.gridliner import LONGITUDE_FORMATTER, LATITUDE_FORMATTER\n",
    "import cartopy.mpl.ticker as cticker\n",
    "from cartopy.io.shapereader import Reader\n",
    "import cartopy.io.shapereader as shpreader\n",
    "import math\n",
    "from matplotlib import patches\n",
    "from tqdm import tqdm\n",
    "import os\n",
    "import cmaps\n",
    "from matplotlib.colors import ListedColormap"
   ]
  },
  {
   "cell_type": "code",
   "execution_count": 2,
   "metadata": {},
   "outputs": [],
   "source": [
    "# 指定两个dbf文件路径\n",
    "filename1 = \"./dataset/SI.dbf\"\n",
    "filename2 = \"./dataset/SP.dbf\"\n",
    "\n",
    "# 指定要读取的列名\n",
    "columns = ['SID', 'year', 'BASIN', 'SUBBASIN', 'NAME',\n",
    "           'ISO_TIME', 'NATURE', 'LAT', 'LON', 'USA_ATCFID', \n",
    "           'DIST2LAND', 'USA_STATUS', 'USA_WIND','WMO_WIND']\n",
    "\n",
    "# 读取dbf文件中指定列名的数据\n",
    "data1 = []\n",
    "for record in DBF(filename1):\n",
    "    row = []\n",
    "    for column in columns:\n",
    "        row.append(record[column])\n",
    "    data1.append(row)\n",
    "\n",
    "data2 = []\n",
    "for record in DBF(filename2):\n",
    "    row = []\n",
    "    for column in columns:\n",
    "        row.append(record[column])\n",
    "    data2.append(row)"
   ]
  },
  {
   "cell_type": "code",
   "execution_count": 3,
   "metadata": {},
   "outputs": [],
   "source": [
    "# 将数据转换为DataFrame\n",
    "df1 = pd.DataFrame(data1, columns=columns)  #168730row\n",
    "df2 = pd.DataFrame(data2, columns=columns)  #75937row\n",
    "\n",
    "# 筛选TC，删除非TC以及陆地上的点\n",
    "# df1_s = df1[df1['USA_STATUS'].isin(['ST', 'TC', 'TD', 'TS', 'TY'])]\n",
    "df1_s = df1[df1['NATURE'].isin(['TS'])]\n",
    "df1_s = df1_s[df1_s['DIST2LAND'] != 0]  #共98866行\n",
    "\n",
    "df2_s = df2[df2['NATURE'].isin(['TS'])]\n",
    "df2_s = df2_s[df2_s['DIST2LAND'] != 0]  #共50312行\n"
   ]
  },
  {
   "cell_type": "code",
   "execution_count": 4,
   "metadata": {},
   "outputs": [],
   "source": [
    "# 筛选出年份在1980-2022年内的数据\n",
    "df1_year = df1_s[(df1_s['year'] >= 1980) & (df1_s['year'] <= 2023)]\n",
    "\n",
    "# 筛选出USA_WIND大于等于35的数据\n",
    "df1_w = df1_year[df1_year['WMO_WIND'] >= 35]\n",
    "\n",
    "# 检查SID是否有重复，若有重复则保留'USA_WIND'列最接近35的那一行数据\n",
    "df1_SID = df1_w.sort_values(by=['SID', 'WMO_WIND'])  #按照 SID 和 USA_WIND 列进行升序排序，即先按照 SID 排序，如果 SID 相同，则按照 USA_WIND 排序。\n",
    "df1_SID.drop_duplicates(subset=['SID'], keep='first', inplace=True)  #若SID重复，保留这些行的第一个\n",
    "\n",
    "# df2筛选同理\n",
    "df2_year = df2_s[(df2_s['year'] >= 1980) & (df2_s['year'] <= 2023)]\n",
    "df2_w = df2_year[df2_year['WMO_WIND'] >= 0]\n",
    "df2_SID = df2_w.sort_values(by=['SID', 'WMO_WIND'])  \n",
    "df2_SID.drop_duplicates(subset=['SID'], keep='first', inplace=True)  \n",
    "\n",
    "# 按照 'year'，'LAT' 和 'LON' 进行分组，并统计每个组的大小\n",
    "df1_count = df1_SID.groupby(['year', 'LAT', 'LON']).size().reset_index(name='tc')\n",
    "df2_count = df2_SID.groupby(['year', 'LAT', 'LON']).size().reset_index(name='tc')\n",
    "\n",
    "# 将两个 DataFrame 拼接在一起\n",
    "df_concat = pd.concat([df1_count, df2_count], axis=0)\n",
    "df_concat = df_concat.reset_index(drop=True)\n",
    "# df_concat"
   ]
  },
  {
   "cell_type": "code",
   "execution_count": 6,
   "metadata": {},
   "outputs": [],
   "source": [
    "# 创建 'lat' 和 'lon' 的坐标数组\n",
    "#lat = np.arange(-40,0.5,2.5)  # lat 从 0° 到 40°S，步长 2.5°\n",
    "lat = np.arange(0, -45, -2.5)  # lat 从 0° 到 40°S，步长 2.5°\n",
    "# lat = np.arange(0, -40.5, -2.5)  # lat 从 0° 到 40°S，步长 2.5°\n",
    "lon = np.arange(0, 360, 2.5)  # lon 从 0 到 360，步长 2.5°"
   ]
  },
  {
   "cell_type": "code",
   "execution_count": 7,
   "metadata": {},
   "outputs": [],
   "source": [
    "def tc_creat(startYear, endYear, lat, lon):\n",
    "    # 创建 'tc' 变量，并将其写入 DataArray 对象\n",
    "    tc = xr.DataArray(\n",
    "        data=np.zeros((len(np.arange(startYear, endYear)), len(lat), len(lon))),\n",
    "        dims=('year', 'lat', 'lon'),\n",
    "        coords={'year': np.arange(startYear, endYear), 'lat': lat, 'lon': lon},\n",
    "    )\n",
    "    return tc\n",
    "\n",
    "def sort_year_and_reset_index(df):\n",
    "    df = df.sort_values(by=['year'],ascending=[True])\n",
    "    df = df.reset_index(drop=True)\n",
    "    return df"
   ]
  },
  {
   "cell_type": "code",
   "execution_count": 8,
   "metadata": {},
   "outputs": [],
   "source": [
    "tc1980 = tc_creat(1980, 2007, lat, lon)\n",
    "\n",
    "tc2007 = tc_creat(2009, 2024, lat, lon)\n",
    "\n",
    "df1980 = sort_year_and_reset_index(df_concat[(df_concat['year'] <= 2006)])\n",
    "\n",
    "df2007 = sort_year_and_reset_index(df_concat[(df_concat['year'] >= 2009)])"
   ]
  },
  {
   "cell_type": "code",
   "execution_count": 10,
   "metadata": {},
   "outputs": [],
   "source": [
    "def tc_write(df,tc, num_year, lat, lon):\n",
    "# 将每个格点每年生成的台风数量写入 'tc' 变量.iterrows()\n",
    "# 将 DataFrame 表中的数据写入 'tc' 变量中相应的位置\n",
    "    for _, row in df.iterrows():\n",
    "        year, lat, lon, count = row.values\n",
    "    #     print(_, year, lat, lon, count)\n",
    "        year = int(year)                  # 将 year 转换为整数类型\n",
    "        lat_idx = int(round(-lat / 2.5))  # 计算 lat 在 'tc' 中的索引\n",
    "        lon_idx = int(round(lon / 2.5))   # 计算 lon 在 'tc' 中的索引\n",
    "        tc[year-num_year, lat_idx, lon_idx-1] = count\n",
    "    return tc\n",
    "\n",
    "def year_mean_huadong(year, lat, lon):\n",
    "    year_mean_hudong = np.zeros((18,144),dtype=float)\n",
    "    for i in range(year-2, year+3):\n",
    "        tcYear = tc_creat(i, i+1, lat, lon)\n",
    "        dfYear = sort_year_and_reset_index(df_concat[(df_concat['year'] == i)])\n",
    "        tcYear2Next = tc_write(dfYear, tcYear,i, lat, lon)\n",
    "        year_mean_hudong += tcYear2Next[0].data\n",
    "    year_mean_hudong = year_mean_hudong/5\n",
    "\n",
    "#     tcYear2Year = tc_creat(year, year+1, lat, lon)\n",
    "#     tcYear2Year[0].data = year_mean_hudong\n",
    "    return year_mean_hudong\n",
    "\n",
    "def phase_mean_hua_dong(startYear, endYear):\n",
    "    '''\n",
    "    输入起始年\n",
    "    输入xdarray 年滑动平局\n",
    "    '''\n",
    "    # 创建空tc\n",
    "    tc_tmp = tc_creat(startYear, endYear, lat, lon)\n",
    "    # 遍历起始年份\n",
    "    for year in range(startYear, endYear):\n",
    "        yearMeanHuaDong = year_mean_huadong(year, lat, lon)\n",
    "        # 赋值year的滑动平均\n",
    "        tc_tmp.data[year-startYear] = yearMeanHuaDong\n",
    "    return tc_tmp\n",
    "\n",
    "def compute_tc_year(startYear, endYear):\n",
    "    # 按照年份进行分组，并计算SI每个年份的台风总数量\n",
    "    df1_total = df1_count.groupby('year')['tc'].sum().reset_index()\n",
    "\n",
    "    # 新建一个包含所有年份的 DataFrame（由于2000年前为0，我这里直接从2000年开始）\n",
    "    years = range(startYear, endYear)\n",
    "    df1_total_result = pd.DataFrame({'year': years})\n",
    "    # 合并两个 DataFrame\n",
    "    df1_total_result = pd.merge(df1_total_result, df1_total, on='year', how='left')\n",
    "    # 将缺失值填充为 0\n",
    "    df1_total_result['tc'] = df1_total_result['tc'].fillna(0)\n",
    "    SI_total = df1_total_result['tc'].values\n",
    "    return SI_total"
   ]
  },
  {
   "cell_type": "code",
   "execution_count": 11,
   "metadata": {},
   "outputs": [],
   "source": [
    "# tc1980to2006 = tc_write(df1980, tc1980, 1980, lat, lon)\n",
    "# tc2009to2023 = tc_write(df2007, tc2007, 2007, lat, lon)"
   ]
  },
  {
   "cell_type": "code",
   "execution_count": 24,
   "metadata": {},
   "outputs": [],
   "source": [
    "tc1980to2006 = phase_mean_hua_dong(1982, 2007)"
   ]
  },
  {
   "cell_type": "code",
   "execution_count": 34,
   "metadata": {},
   "outputs": [],
   "source": [
    "tc2009to2023 = phase_mean_hua_dong(2011, 2022)"
   ]
  },
  {
   "cell_type": "code",
   "execution_count": 35,
   "metadata": {},
   "outputs": [
    {
     "data": {
      "text/plain": [
       "(11, 18, 144)"
      ]
     },
     "execution_count": 35,
     "metadata": {},
     "output_type": "execute_result"
    }
   ],
   "source": [
    "tc2009to2023.shape"
   ]
  },
  {
   "cell_type": "code",
   "execution_count": 12,
   "metadata": {},
   "outputs": [],
   "source": [
    "SI_total_1980 = compute_tc_year(1980, 2007)\n",
    "SI_total_2007 = compute_tc_year(2009, 2024)"
   ]
  },
  {
   "cell_type": "code",
   "execution_count": 23,
   "metadata": {},
   "outputs": [
    {
     "data": {
      "text/plain": [
       "(27,)"
      ]
     },
     "execution_count": 23,
     "metadata": {},
     "output_type": "execute_result"
    }
   ],
   "source": [
    "SI_total_1980.shape"
   ]
  },
  {
   "cell_type": "code",
   "execution_count": 13,
   "metadata": {},
   "outputs": [],
   "source": [
    "def HuaDong_mean(SI_total):\n",
    "    '''\n",
    "    计算滑动平均 \n",
    "    '''\n",
    "    ls = []\n",
    "    length = SI_total.shape[0]\n",
    "    for i in range(2, length-2):\n",
    "        # 计算i的前后各2个数的平均\n",
    "        tmp = SI_total[i-2]+SI_total[i-1]+SI_total[i]+SI_total[i+1]+SI_total[i+2]\n",
    "        ls.append(tmp / 5)\n",
    "    return np.array(ls)\n",
    "    \n",
    "\n",
    "SI_1980 = HuaDong_mean(SI_total_1980)\n",
    "SI_2007 = HuaDong_mean(SI_total_2007)"
   ]
  },
  {
   "cell_type": "code",
   "execution_count": 14,
   "metadata": {},
   "outputs": [],
   "source": [
    "def compute_regress(tc, SI_total):\n",
    "    # 创建3个空数组存放回归系数和p值\n",
    "    slope = np.full((tc.shape[1], tc.shape[2]), np.nan)\n",
    "    r = np.full((tc.shape[1], tc.shape[2]), np.nan)\n",
    "    p_value = np.full((tc.shape[1], tc.shape[2]), np.nan)\n",
    "    # 循环每个格点计算回归系数和p值\n",
    "    # 第一个循环是lat的个数\n",
    "    for i in tqdm(range(18)):\n",
    "        # 第二个循环是lon的点个数\n",
    "        for j in range(144):\n",
    "            # 计算多年数据相加结果\n",
    "            total = tc[:,i,j].sum()\n",
    "            # 仅当多年数据相加结果大于0时进行回归分析\n",
    "            if total > 0:\n",
    "                slope[i,j],_,r[i,j],p_value[i,j],_ = linregress(SI_total,tc[:,i,j])\n",
    "    return slope, p_value\n",
    "\n",
    "\n"
   ]
  },
  {
   "cell_type": "code",
   "execution_count": 32,
   "metadata": {},
   "outputs": [
    {
     "data": {
      "text/plain": [
       "(11,)"
      ]
     },
     "execution_count": 32,
     "metadata": {},
     "output_type": "execute_result"
    }
   ],
   "source": [
    "SI_2007.shape"
   ]
  },
  {
   "cell_type": "code",
   "execution_count": 28,
   "metadata": {},
   "outputs": [
    {
     "name": "stderr",
     "output_type": "stream",
     "text": [
      "100%|██████████| 18/18 [00:00<00:00, 19.55it/s]\n"
     ]
    }
   ],
   "source": [
    "slope1982, p_value1982 = compute_regress(tc1980to2006, SI_1980)"
   ]
  },
  {
   "cell_type": "code",
   "execution_count": 36,
   "metadata": {
    "scrolled": true
   },
   "outputs": [
    {
     "name": "stderr",
     "output_type": "stream",
     "text": [
      "100%|██████████| 18/18 [00:00<00:00, 21.45it/s]\n"
     ]
    }
   ],
   "source": [
    "slope2009, p_value2009 = compute_regress(tc2009to2023, SI_2007)"
   ]
  },
  {
   "cell_type": "code",
   "execution_count": 40,
   "metadata": {},
   "outputs": [
    {
     "name": "stdout",
     "output_type": "stream",
     "text": [
      "Slope 1980 MAX: 0.1436369840 and the MIN: -0.0829068577\n",
      "Slope 2007 MAX: 0.0669127086 and the MIN: -0.0474967908\n"
     ]
    }
   ],
   "source": [
    "print(\"Slope 1980 MAX: %.10f and the MIN: %.10f\"%(np.nanmax(slope1982), np.nanmin(slope1982)))\n",
    "\n",
    "print(\"Slope 2007 MAX: %.10f and the MIN: %.10f\"%(np.nanmax(slope2009), np.nanmin(slope2009)))"
   ]
  },
  {
   "cell_type": "code",
   "execution_count": 37,
   "metadata": {},
   "outputs": [],
   "source": [
    "lon = tc1980.lon\n",
    "lat = tc1980.lat\n",
    "\n",
    "# 显著性打点设置为95%\n",
    "area1 = np.where(p_value1982 < 0.05)\n",
    "area2 = np.where(p_value2009 < 0.05)\n",
    "nx,ny = np.meshgrid(lon,lat)"
   ]
  },
  {
   "cell_type": "code",
   "execution_count": 1,
   "metadata": {},
   "outputs": [
    {
     "ename": "NameError",
     "evalue": "name 'rcParams' is not defined",
     "output_type": "error",
     "traceback": [
      "\u001b[0;31m---------------------------------------------------------------------------\u001b[0m",
      "\u001b[0;31mNameError\u001b[0m                                 Traceback (most recent call last)",
      "\u001b[0;32m<ipython-input-1-4f74cf5284cb>\u001b[0m in \u001b[0;36m<module>\u001b[0;34m\u001b[0m\n\u001b[1;32m      9\u001b[0m     \u001b[0;34m'axes.unicode_minus'\u001b[0m\u001b[0;34m:\u001b[0m \u001b[0;32mFalse\u001b[0m\u001b[0;34m\u001b[0m\u001b[0;34m\u001b[0m\u001b[0m\n\u001b[1;32m     10\u001b[0m          }\n\u001b[0;32m---> 11\u001b[0;31m \u001b[0mrcParams\u001b[0m\u001b[0;34m.\u001b[0m\u001b[0mupdate\u001b[0m\u001b[0;34m(\u001b[0m\u001b[0mconfig\u001b[0m\u001b[0;34m)\u001b[0m\u001b[0;34m\u001b[0m\u001b[0;34m\u001b[0m\u001b[0m\n\u001b[0m\u001b[1;32m     12\u001b[0m \u001b[0;34m\u001b[0m\u001b[0m\n\u001b[1;32m     13\u001b[0m \u001b[0mMAX\u001b[0m \u001b[0;34m=\u001b[0m \u001b[0;36m0.1\u001b[0m\u001b[0;34m\u001b[0m\u001b[0;34m\u001b[0m\u001b[0m\n",
      "\u001b[0;31mNameError\u001b[0m: name 'rcParams' is not defined"
     ]
    }
   ],
   "source": [
    "from matplotlib import colors,cm\n",
    "import matplotlib as mpl\n",
    "\n",
    "# 设置字体\n",
    "config = {\n",
    "    \"font.family\": 'Times New Roman',\n",
    "    \"font.size\": 16,\n",
    "    \"mathtext.fontset\":'stix',\n",
    "    'axes.unicode_minus': False \n",
    "         }\n",
    "rcParams.update(config)\n",
    "\n",
    "MAX = 0.1\n",
    "MIN = -0.1\n",
    "\n",
    "fig = plt.figure(figsize=(12,8))\n",
    "\n",
    "proj = ccrs.PlateCarree(central_longitude=180)\n",
    "leftlon, rightlon, lowerlat, upperlat = (10,240,-40,0)\n",
    "img_extent = [leftlon, rightlon, lowerlat, upperlat]\n",
    "lon_formatter = cticker.LongitudeFormatter()\n",
    "lat_formatter = cticker.LatitudeFormatter()\n",
    "\n",
    "ax = fig.add_axes([0.1, 0.4, 0.8, 0.6],projection = proj)\n",
    "ax.set_extent(img_extent, crs=ccrs.PlateCarree())\n",
    "land = cfeature.NaturalEarthFeature('physical','land','50m',edgecolor='face',facecolor=cfeature.COLORS['land'])\n",
    "#ax.add_feature(land,facecolor='0.75')\n",
    "ax.add_feature(cfeature.COASTLINE.with_scale('50m'))\n",
    "ax.set_xticks(np.arange(leftlon,rightlon+20,20), crs=ccrs.PlateCarree())\n",
    "ax.set_yticks(np.arange(lowerlat,upperlat+10,10), crs=ccrs.PlateCarree())\n",
    "ax.xaxis.set_major_formatter(lon_formatter)\n",
    "ax.yaxis.set_major_formatter(lat_formatter)\n",
    "c1 = ax.pcolor(lon,lat, slope1982, zorder=0, vmin=MIN, vmax=MAX, \n",
    "               transform=ccrs.PlateCarree(), cmap=plt.cm.RdBu_r\n",
    "#                cmap=newcmap_1\n",
    "              )\n",
    "sig1 = ax.scatter(nx[area1], ny[area1],marker = '.',s=6, linewidths=1.3, c='purple',alpha=0.7,transform=ccrs.PlateCarree())\n",
    "ax.set_title('(a) The major variability region for TC genesis from 1980-2006 season.',loc='left',fontsize =12)\n",
    "\n",
    "\n",
    "# ========== 图2 =============\n",
    "ax1 = fig.add_axes([0.1, 0.1, 0.8, 0.6],projection = proj)\n",
    "ax1.set_extent(img_extent, crs=ccrs.PlateCarree())\n",
    "land = cfeature.NaturalEarthFeature('physical','land','50m',edgecolor='face',facecolor=cfeature.COLORS['land'])\n",
    "#ax.add_feature(land,facecolor='0.75')\n",
    "ax1.add_feature(cfeature.COASTLINE.with_scale('50m'))\n",
    "ax1.set_xticks(np.arange(leftlon,rightlon+20,20), crs=ccrs.PlateCarree())\n",
    "ax1.set_yticks(np.arange(lowerlat,upperlat+10,10), crs=ccrs.PlateCarree())\n",
    "ax1.xaxis.set_major_formatter(lon_formatter)\n",
    "ax1.yaxis.set_major_formatter(lat_formatter)\n",
    "c1 = ax1.pcolor(lon,lat, slope2009, zorder=0, vmin=MIN, vmax=MAX, \n",
    "                transform=ccrs.PlateCarree(), cmap=plt.cm.RdBu_r\n",
    "#                 cmap=newcmap_1\n",
    "               )\n",
    "sig1 = ax1.scatter(nx[area2], ny[area2],marker = '.',s=6, linewidths=1.3, c='purple',alpha=0.7,transform=ccrs.PlateCarree())\n",
    "ax1.set_title('(b) The major variability region for TC genesis from 2009-2022 season.',loc='left',fontsize =12)\n",
    "\n",
    "\n",
    "# colorbar\n",
    "position = fig.add_axes([0.2, 0.20,  0.6, 0.025]) # 最下面位置\n",
    "norm = colors.Normalize(vmin=MIN, vmax=MAX)    #确定colormap的最大最小值\n",
    "fc1=fig.colorbar(mpl.cm.ScalarMappable(norm=norm,\n",
    "                                       cmap=plt.cm.RdBu_r\n",
    "                                      ),\n",
    "                 cax = position,\n",
    "                 orientation='horizontal',\n",
    "                 ticks=np.arange(MIN, MAX+0.01, 0.02).tolist(), # colorbar分片                                                 \n",
    "                 extend='both',\n",
    "#                  label =mul_symbol_text+'1e+06',\n",
    "                fraction=0.02) \n",
    "# position=fig.add_axes([0.2, 0.22,  0.6, 0.025])\n",
    "# cmap_ticks = [i for i in np.arange(MIN, MAX+0.01, 0.03)]\n",
    "# fig.colorbar(c1,cax=position,ticks=cmap_ticks,orientation='horizontal',format='%.2f')\n",
    "\n",
    "plt.savefig('TC生成频率.png', dpi=600, bbox_inches='tight',pad_inches = 0.2)\n",
    "plt.show()"
   ]
  },
  {
   "cell_type": "code",
   "execution_count": null,
   "metadata": {},
   "outputs": [],
   "source": []
  },
  {
   "cell_type": "code",
   "execution_count": null,
   "metadata": {},
   "outputs": [],
   "source": []
  },
  {
   "cell_type": "code",
   "execution_count": null,
   "metadata": {},
   "outputs": [],
   "source": []
  },
  {
   "cell_type": "code",
   "execution_count": null,
   "metadata": {},
   "outputs": [],
   "source": []
  },
  {
   "cell_type": "code",
   "execution_count": null,
   "metadata": {},
   "outputs": [],
   "source": []
  },
  {
   "cell_type": "code",
   "execution_count": null,
   "metadata": {},
   "outputs": [],
   "source": []
  },
  {
   "cell_type": "code",
   "execution_count": null,
   "metadata": {},
   "outputs": [],
   "source": []
  },
  {
   "cell_type": "code",
   "execution_count": null,
   "metadata": {},
   "outputs": [],
   "source": []
  },
  {
   "cell_type": "code",
   "execution_count": null,
   "metadata": {},
   "outputs": [],
   "source": []
  },
  {
   "cell_type": "code",
   "execution_count": null,
   "metadata": {},
   "outputs": [],
   "source": []
  },
  {
   "cell_type": "code",
   "execution_count": null,
   "metadata": {},
   "outputs": [],
   "source": []
  },
  {
   "cell_type": "code",
   "execution_count": null,
   "metadata": {},
   "outputs": [],
   "source": []
  }
 ],
 "metadata": {
  "kernelspec": {
   "display_name": "Python 3 (ipykernel)",
   "language": "python",
   "name": "python3"
  },
  "language_info": {
   "codemirror_mode": {
    "name": "ipython",
    "version": 3
   },
   "file_extension": ".py",
   "mimetype": "text/x-python",
   "name": "python",
   "nbconvert_exporter": "python",
   "pygments_lexer": "ipython3",
   "version": "3.7.6"
  }
 },
 "nbformat": 4,
 "nbformat_minor": 4
}
