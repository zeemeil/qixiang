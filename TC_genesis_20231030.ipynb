{
 "cells": [
  {
   "cell_type": "code",
   "execution_count": 1,
   "metadata": {},
   "outputs": [],
   "source": [
    "import numpy as np  \n",
    "import pandas as pd\n",
    "import xarray as xr\n",
    "from dbfread import DBF\n",
    "import dbf\n",
    "from scipy.stats import linregress\n",
    "import matplotlib.pyplot as plt\n",
    "from matplotlib import rcParams\n",
    "import cartopy.crs as ccrs\n",
    "import cartopy.feature as cfeature\n",
    "from cartopy.mpl.gridliner import LONGITUDE_FORMATTER, LATITUDE_FORMATTER\n",
    "import cartopy.mpl.ticker as cticker\n",
    "from cartopy.io.shapereader import Reader\n",
    "import cartopy.io.shapereader as shpreader\n",
    "import math\n",
    "from matplotlib import patches\n",
    "from tqdm import tqdm\n",
    "import os\n",
    "import cmaps\n",
    "from matplotlib.colors import ListedColormap"
   ]
  },
  {
   "cell_type": "code",
   "execution_count": 2,
   "metadata": {},
   "outputs": [],
   "source": [
    "# 指定两个dbf文件路径\n",
    "filename1 = \"./dataset/SI.dbf\"\n",
    "filename2 = \"./dataset/SP.dbf\""
   ]
  },
  {
   "cell_type": "code",
   "execution_count": 3,
   "metadata": {},
   "outputs": [],
   "source": [
    "# 指定要读取的列名\n",
    "columns = ['SID', 'year', 'BASIN', 'SUBBASIN', 'NAME',\n",
    "           'ISO_TIME', 'NATURE', 'LAT', 'LON', 'USA_ATCFID', \n",
    "           'DIST2LAND', 'USA_STATUS', 'USA_WIND','WMO_WIND']\n",
    "\n",
    "# 读取dbf文件中指定列名的数据\n",
    "data1 = []\n",
    "for record in DBF(filename1):\n",
    "    row = []\n",
    "    for column in columns:\n",
    "        row.append(record[column])\n",
    "    data1.append(row)\n",
    "\n",
    "data2 = []\n",
    "for record in DBF(filename2):\n",
    "    row = []\n",
    "    for column in columns:\n",
    "        row.append(record[column])\n",
    "    data2.append(row)"
   ]
  },
  {
   "cell_type": "code",
   "execution_count": 4,
   "metadata": {},
   "outputs": [],
   "source": [
    "# 将数据转换为DataFrame\n",
    "df1 = pd.DataFrame(data1, columns=columns)  #168730row\n",
    "df2 = pd.DataFrame(data2, columns=columns)  #75937row\n",
    "\n",
    "\n",
    "df1_s = df1[df1['DIST2LAND'] != 0]  #共98866行\n",
    "\n",
    "df2_s = df2[df2['DIST2LAND'] != 0]  #共50312行\n"
   ]
  },
  {
   "cell_type": "code",
   "execution_count": 5,
   "metadata": {},
   "outputs": [],
   "source": [
    "# 筛选出年份在1980-2022年内的数据\n",
    "df1_year = df1_s[(df1_s['year'] >= 1980) & (df1_s['year'] <= 2023)]\n",
    "\n",
    "# 筛选出USA_WIND大于等于35的数据\n",
    "df1_w = df1_year[df1_year['USA_WIND'] >= 35]\n",
    "\n",
    "# 检查SID是否有重复，若有重复则保留'USA_WIND'列最接近35的那一行数据\n",
    "df1_SID = df1_w.sort_values(by=['SID', 'USA_WIND'])  #按照 SID 和 USA_WIND 列进行升序排序，即先按照 SID 排序，如果 SID 相同，则按照 USA_WIND 排序。\n",
    "df1_SID.drop_duplicates(subset=['SID'], keep='first', inplace=True)  #若SID重复，保留这些行的第一个\n",
    "\n",
    "# df2筛选同理\n",
    "df2_year = df2_s[(df2_s['year'] >= 1980) & (df2_s['year'] <= 2023)]\n",
    "df2_w = df2_year[df2_year['USA_WIND'] >= 0]\n",
    "df2_SID = df2_w.sort_values(by=['SID', 'USA_WIND'])  \n",
    "df2_SID.drop_duplicates(subset=['SID'], keep='first', inplace=True)"
   ]
  },
  {
   "cell_type": "code",
   "execution_count": 6,
   "metadata": {
    "scrolled": true
   },
   "outputs": [],
   "source": [
    "# 按照 'year'，'LAT' 和 'LON' 进行分组，并统计每个组的大小\n",
    "df1_count = df1_SID.groupby(['year', 'LAT', 'LON']).size().reset_index(name='tc')\n",
    "df2_count = df2_SID.groupby(['year', 'LAT', 'LON']).size().reset_index(name='tc')\n",
    "\n",
    "# 将两个 DataFrame 拼接在一起\n",
    "df_concat = pd.concat([df1_count, df2_count], axis=0)\n",
    "df_concat = df_concat.reset_index(drop=True)\n",
    "# df_concat"
   ]
  },
  {
   "cell_type": "code",
   "execution_count": 19,
   "metadata": {},
   "outputs": [],
   "source": [
    "# 创建 'lat' 和 'lon' 的坐标数组\n",
    "#lat = np.arange(-40,0.5,2.5)  # lat 从 0° 到 40°S，步长 2.5°\n",
    "lat = np.arange(0, -45, -2.5)  # lat 从 0° 到 40°S，步长 2.5°\n",
    "# lat = np.arange(0, -40.5, -2.5)  # lat 从 0° 到 40°S，步长 2.5°\n",
    "lon = np.arange(0, 360, 2.5)  # lon 从 0 到 360，步长 2.5°"
   ]
  },
  {
   "cell_type": "code",
   "execution_count": 20,
   "metadata": {},
   "outputs": [],
   "source": [
    "def tc_creat(startYear, endYear, lat, lon):\n",
    "    # 创建 'tc' 变量，并将其写入 DataArray 对象\n",
    "    tc = xr.DataArray(\n",
    "        data=np.zeros((len(np.arange(startYear, endYear)), len(lat), len(lon))),\n",
    "        dims=('year', 'lat', 'lon'),\n",
    "        coords={'year': np.arange(startYear, endYear), 'lat': lat, 'lon': lon},\n",
    "    )\n",
    "    return tc\n",
    "\n",
    "def sort_year_and_reset_index(df):\n",
    "    df = df.sort_values(by=['year'],ascending=[True])\n",
    "    df = df.reset_index(drop=True)\n",
    "    return df\n",
    "\n",
    "tc1980 = tc_creat(1980, 2007, lat, lon)\n",
    "\n",
    "tc2009 = tc_creat(2009, 2024, lat, lon)\n",
    "\n",
    "df1980 = sort_year_and_reset_index(df_concat[(df_concat['year'] <= 2006)])\n",
    "\n",
    "df2009 = sort_year_and_reset_index(df_concat[(df_concat['year'] >= 2009)])"
   ]
  },
  {
   "cell_type": "code",
   "execution_count": 71,
   "metadata": {},
   "outputs": [],
   "source": [
    "def tc_write(df,tc, num_year, lat, lon):\n",
    "# 将每个格点每年生成的台风数量写入 'tc' 变量.iterrows()\n",
    "# 将 DataFrame 表中的数据写入 'tc' 变量中相应的位置\n",
    "    for _, row in df.iterrows():\n",
    "        year, lat, lon, count = row.values\n",
    "    #     print(_, year, lat, lon, count)\n",
    "        year = int(year)                  # 将 year 转换为整数类型\n",
    "        lat_idx = int(round(-lat / 2.5))  # 计算 lat 在 'tc' 中的索引\n",
    "        lon_idx = int(round(lon / 2.5))   # 计算 lon 在 'tc' 中的索引\n",
    "        tc[year-num_year, lat_idx, lon_idx-1] = count\n",
    "    return tc\n",
    "\n",
    "def year_mean_huadong(year, lat, lon):\n",
    "    year_mean_hudong_ = np.zeros((18, 144),dtype=float)\n",
    "    for i in range(year-2, year+3):\n",
    "        tcYear = tc_creat(i, i+1, lat, lon)\n",
    "        dfYear = sort_year_and_reset_index(df_concat[(df_concat['year'] == i)])\n",
    "        tcYear2Next = tc_write(dfYear, tcYear, i, lat, lon)\n",
    "        year_mean_hudong_ += tcYear2Next[0].data\n",
    "    year_mean_hudong_ = year_mean_hudong_/5\n",
    "\n",
    "#     tcYear2Year = tc_creat(year, year+1, lat, lon)\n",
    "#     tcYear2Year[0].data = year_mean_hudong\n",
    "    return year_mean_hudong_\n",
    "\n",
    "def phase_mean_hua_dong(startYear, endYear):\n",
    "    '''\n",
    "    输入起始年\n",
    "    输入xdarray 年滑动平局\n",
    "    '''\n",
    "    # 创建空tc\n",
    "    tc_tmp = tc_creat(startYear, endYear, lat, lon)\n",
    "    # 遍历起始年份\n",
    "    for year in range(startYear, endYear):\n",
    "        yearMeanHuaDong = year_mean_huadong(year, lat, lon)\n",
    "        # 赋值year的滑动平均\n",
    "        tc_tmp.data[year-startYear] = yearMeanHuaDong\n",
    "    return tc_tmp"
   ]
  },
  {
   "cell_type": "code",
   "execution_count": 72,
   "metadata": {},
   "outputs": [],
   "source": [
    "tc1982to2007 = phase_mean_hua_dong(1982, 2007)\n"
   ]
  },
  {
   "cell_type": "code",
   "execution_count": 73,
   "metadata": {},
   "outputs": [],
   "source": [
    "tc2011to2020 = phase_mean_hua_dong(2011, 2020)"
   ]
  },
  {
   "cell_type": "code",
   "execution_count": 47,
   "metadata": {},
   "outputs": [
    {
     "data": {
      "text/plain": [
       "(25, 18, 144)"
      ]
     },
     "execution_count": 47,
     "metadata": {},
     "output_type": "execute_result"
    }
   ],
   "source": [
    "tc1982to2004.shape"
   ]
  },
  {
   "cell_type": "code",
   "execution_count": 74,
   "metadata": {},
   "outputs": [],
   "source": [
    "def compute_tc_year(startYear, endYear):\n",
    "    # 按照年份进行分组，并计算SI每个年份的台风总数量\n",
    "    df1_total = df1_count.groupby('year')['tc'].sum().reset_index()\n",
    "\n",
    "    # 新建一个包含所有年份的 DataFrame（由于2000年前为0，我这里直接从2000年开始）\n",
    "    years = range(startYear, endYear)\n",
    "    df1_total_result = pd.DataFrame({'year': years})\n",
    "    # 合并两个 DataFrame\n",
    "    df1_total_result = pd.merge(df1_total_result, df1_total, on='year', how='left')\n",
    "    # 将缺失值填充为 0\n",
    "    df1_total_result['tc'] = df1_total_result['tc'].fillna(0)\n",
    "    SI_total = df1_total_result['tc'].values\n",
    "    return SI_total\n",
    "\n",
    "SI_total_1980 = compute_tc_year(1980, 2009)\n",
    "SI_total_2009 = compute_tc_year(2009, 2022)"
   ]
  },
  {
   "cell_type": "code",
   "execution_count": 75,
   "metadata": {},
   "outputs": [],
   "source": [
    "def HuaDong_mean(SI_total):\n",
    "    '''\n",
    "    计算滑动平均 \n",
    "    '''\n",
    "    ls = []\n",
    "    length = SI_total.shape[0]\n",
    "    for i in range(2, length-2):\n",
    "        # 计算i的前后各2个数的平均\n",
    "        tmp = SI_total[i-2]+SI_total[i-1]+SI_total[i]+SI_total[i+1]+SI_total[i+2]\n",
    "        ls.append(tmp / 5)\n",
    "    return np.array(ls)\n",
    "    \n",
    "\n",
    "SI_1980 = HuaDong_mean(SI_total_1980)\n",
    "SI_2009 = HuaDong_mean(SI_total_2009)"
   ]
  },
  {
   "cell_type": "code",
   "execution_count": 59,
   "metadata": {
    "scrolled": true
   },
   "outputs": [
    {
     "data": {
      "text/plain": [
       "(25,)"
      ]
     },
     "execution_count": 59,
     "metadata": {},
     "output_type": "execute_result"
    }
   ],
   "source": [
    "SI_1980.shape"
   ]
  },
  {
   "cell_type": "code",
   "execution_count": 62,
   "metadata": {},
   "outputs": [
    {
     "data": {
      "text/plain": [
       "(9,)"
      ]
     },
     "execution_count": 62,
     "metadata": {},
     "output_type": "execute_result"
    }
   ],
   "source": [
    "SI_2009.shape"
   ]
  },
  {
   "cell_type": "code",
   "execution_count": 76,
   "metadata": {},
   "outputs": [],
   "source": [
    "def compute_regress(tc, SI_total):\n",
    "    # 创建3个空数组存放回归系数和p值\n",
    "    slope = np.full((tc.shape[1], tc.shape[2]), np.nan)\n",
    "    r = np.full((tc.shape[1], tc.shape[2]), np.nan)\n",
    "    p_value = np.full((tc.shape[1], tc.shape[2]), np.nan)\n",
    "    # 循环每个格点计算回归系数和p值\n",
    "    # 第一个循环是lat的个数\n",
    "    for i in tqdm(range(9)):\n",
    "        # 第二个循环是lon的点个数\n",
    "        for j in range(72):\n",
    "            # 计算多年数据相加结果\n",
    "            total = tc[:,i,j].sum()\n",
    "            # 仅当多年数据相加结果大于0时进行回归分析\n",
    "            if total > 0:\n",
    "                slope[i,j],_,r[i,j],p_value[i,j],_ = linregress(SI_total,tc[:,i,j])\n",
    "    return slope, p_value"
   ]
  },
  {
   "cell_type": "code",
   "execution_count": 77,
   "metadata": {},
   "outputs": [
    {
     "name": "stderr",
     "output_type": "stream",
     "text": [
      "100%|██████████| 9/9 [00:00<00:00, 26.72it/s]\n"
     ]
    }
   ],
   "source": [
    "slope1982, p_value1982 = compute_regress(tc1982to2007, SI_1980)"
   ]
  },
  {
   "cell_type": "code",
   "execution_count": 78,
   "metadata": {
    "scrolled": true
   },
   "outputs": [
    {
     "name": "stderr",
     "output_type": "stream",
     "text": [
      "100%|██████████| 9/9 [00:00<00:00, 30.97it/s]\n"
     ]
    }
   ],
   "source": [
    "slope2009, p_value2009 = compute_regress(tc2011to2020, SI_2009)"
   ]
  },
  {
   "cell_type": "code",
   "execution_count": 79,
   "metadata": {},
   "outputs": [
    {
     "name": "stdout",
     "output_type": "stream",
     "text": [
      "Slope 1980 MAX: 0.1600000000 and the MIN: -0.1236842105\n",
      "Slope 2007 MAX: 0.1801896733 and the MIN: -0.1464699684\n"
     ]
    }
   ],
   "source": [
    "print(\"Slope 1980 MAX: %.10f and the MIN: %.10f\"%(np.nanmax(slope1982), np.nanmin(slope1982)))\n",
    "\n",
    "print(\"Slope 2007 MAX: %.10f and the MIN: %.10f\"%(np.nanmax(slope2009), np.nanmin(slope2009)))"
   ]
  },
  {
   "cell_type": "code",
   "execution_count": 80,
   "metadata": {},
   "outputs": [],
   "source": [
    "lon = tc1980.lon\n",
    "lat = tc1980.lat"
   ]
  },
  {
   "cell_type": "code",
   "execution_count": 81,
   "metadata": {},
   "outputs": [],
   "source": [
    "# 显著性打点设置为95%\n",
    "area1 = np.where(p_value1982 < 0.05)\n",
    "area2 = np.where(p_value2009 < 0.05)\n",
    "nx,ny = np.meshgrid(lon,lat)"
   ]
  },
  {
   "cell_type": "code",
   "execution_count": null,
   "metadata": {
    "scrolled": true
   },
   "outputs": [],
   "source": [
    "# 自定义色标\n",
    "newcolors_1=[\n",
    "       [0.14117647, 0.        , 0.84705882, 1.        ],\n",
    "       [0.15686275, 0.34117647, 1.        , 1.        ],\n",
    "       [0.23921569, 0.52941176, 1.        , 1.        ],\n",
    "       [0.3372549 , 0.69019608, 1.        , 1.        ],\n",
    "       [0.45882353, 0.82745098, 1.        , 1.        ],\n",
    "       [0.6       , 0.91764706, 1.        , 1.        ],\n",
    "       [1.        , 0.83921569, 0.6       , 1.        ],\n",
    "       [1.        , 0.6745098 , 0.45882353, 1.        ],\n",
    "       [1.        , 0.47058824, 0.3372549 , 1.        ],\n",
    "       [1.        , 0.23921569, 0.23921569, 1.        ],\n",
    "       [0.84705882, 0.08235294, 0.18431373, 1.        ],\n",
    "       [0.64705882, 0.        , 0.12941176, 1.        ]\n",
    "]\n",
    "newcmap_1 = ListedColormap(newcolors_1[::1])\n",
    "newcmap_1"
   ]
  },
  {
   "cell_type": "code",
   "execution_count": 84,
   "metadata": {},
   "outputs": [
    {
     "data": {
      "image/png": "[encoded data removed]",
      "text/plain": [
       "<Figure size 864x576 with 3 Axes>"
      ]
     },
     "metadata": {
      "needs_background": "light"
     },
     "output_type": "display_data"
    }
   ],
   "source": [
    "from matplotlib import colors,cm\n",
    "import matplotlib as mpl\n",
    "\n",
    "# 设置字体\n",
    "config = {\n",
    "    \"font.family\": 'serif',\n",
    "    \"font.size\": 12,\n",
    "    \"mathtext.fontset\":'stix',\n",
    "    'axes.unicode_minus': False \n",
    "         }\n",
    "rcParams.update(config)\n",
    "\n",
    "MAX = 0.18\n",
    "MIN = -0.18\n",
    "\n",
    "fig = plt.figure(figsize=(12,8))\n",
    "\n",
    "proj = ccrs.PlateCarree(central_longitude=180)\n",
    "leftlon, rightlon, lowerlat, upperlat = (10,240,-40,0)\n",
    "img_extent = [leftlon, rightlon, lowerlat, upperlat]\n",
    "lon_formatter = cticker.LongitudeFormatter()\n",
    "lat_formatter = cticker.LatitudeFormatter()\n",
    "\n",
    "ax = fig.add_axes([0.1, 0.4, 0.8, 0.6],projection = proj)\n",
    "ax.set_extent(img_extent, crs=ccrs.PlateCarree())\n",
    "land = cfeature.NaturalEarthFeature('physical','land','50m',edgecolor='face',facecolor=cfeature.COLORS['land'])\n",
    "#ax.add_feature(land,facecolor='0.75')\n",
    "ax.add_feature(cfeature.COASTLINE.with_scale('50m'))\n",
    "ax.set_xticks(np.arange(leftlon,rightlon+20,20), crs=ccrs.PlateCarree())\n",
    "ax.set_yticks(np.arange(lowerlat,upperlat+10,10), crs=ccrs.PlateCarree())\n",
    "ax.xaxis.set_major_formatter(lon_formatter)\n",
    "ax.yaxis.set_major_formatter(lat_formatter)\n",
    "c1 = ax.pcolor(lon,lat, slope1982, zorder=0, vmin=MIN, vmax=MAX, \n",
    "               transform=ccrs.PlateCarree(), cmap=plt.cm.RdBu_r\n",
    "#                cmap=newcmap_1\n",
    "              )\n",
    "sig1 = ax.scatter(nx[area1], ny[area1],marker = '.',s=6, linewidths=1.3, c='purple',alpha=0.7,transform=ccrs.PlateCarree())\n",
    "ax.set_title('(a) The major variability region for TC genesis from 1980-2007 season.',loc='left',fontsize =12)\n",
    "\n",
    "\n",
    "# ========== 图2 =============\n",
    "ax1 = fig.add_axes([0.1, 0.1, 0.8, 0.6],projection = proj)\n",
    "ax1.set_extent(img_extent, crs=ccrs.PlateCarree())\n",
    "land = cfeature.NaturalEarthFeature('physical','land','50m',edgecolor='face',facecolor=cfeature.COLORS['land'])\n",
    "#ax.add_feature(land,facecolor='0.75')\n",
    "ax1.add_feature(cfeature.COASTLINE.with_scale('50m'))\n",
    "ax1.set_xticks(np.arange(leftlon,rightlon+20,20), crs=ccrs.PlateCarree())\n",
    "ax1.set_yticks(np.arange(lowerlat,upperlat+10,10), crs=ccrs.PlateCarree())\n",
    "ax1.xaxis.set_major_formatter(lon_formatter)\n",
    "ax1.yaxis.set_major_formatter(lat_formatter)\n",
    "c1 = ax1.pcolor(lon,lat, slope2009, zorder=0, vmin=MIN, vmax=MAX, \n",
    "                transform=ccrs.PlateCarree(), cmap=plt.cm.RdBu_r\n",
    "#                 cmap=newcmap_1\n",
    "               )\n",
    "sig1 = ax1.scatter(nx[area2], ny[area2],marker = '.',s=6, linewidths=1.3, c='purple',alpha=0.7,transform=ccrs.PlateCarree())\n",
    "ax1.set_title('(b) The major variability region for TC genesis from 2009-2022 season.',loc='left',fontsize =12)\n",
    "\n",
    "\n",
    "# colorbar\n",
    "position = fig.add_axes([0.2, 0.20,  0.6, 0.025]) # 最下面位置\n",
    "norm = colors.Normalize(vmin=MIN, vmax=MAX)    #确定colormap的最大最小值\n",
    "fc1=fig.colorbar(mpl.cm.ScalarMappable(norm=norm,\n",
    "                                       cmap=plt.cm.RdBu_r\n",
    "                                      ),\n",
    "                 cax = position,\n",
    "                 orientation='horizontal',\n",
    "                 ticks=np.arange(MIN, MAX+0.01, 0.03).tolist(), # colorbar分片                                                 \n",
    "                 extend='both',\n",
    "#                  label =mul_symbol_text+'1e+06',\n",
    "                fraction=0.02) \n",
    "# position=fig.add_axes([0.2, 0.22,  0.6, 0.025])\n",
    "# cmap_ticks = [i for i in np.arange(MIN, MAX+0.01, 0.03)]\n",
    "# fig.colorbar(c1,cax=position,ticks=cmap_ticks,orientation='horizontal',format='%.2f')\n",
    "\n",
    "plt.savefig('TC生成频率.png', dpi=600, bbox_inches='tight',pad_inches = 0.2)\n",
    "plt.show()"
   ]
  },
  {
   "cell_type": "code",
   "execution_count": null,
   "metadata": {},
   "outputs": [],
   "source": [
    "# 设置字体\n",
    "config = {\n",
    "    \"font.family\": 'serif',\n",
    "    \"font.size\": 12,\n",
    "    \"mathtext.fontset\":'stix',\n",
    "    'axes.unicode_minus': False \n",
    "         }\n",
    "rcParams.update(config)\n",
    "\n",
    "fig = plt.figure(figsize=(12,8))\n",
    "\n",
    "proj = ccrs.PlateCarree(central_longitude=180)\n",
    "leftlon, rightlon, lowerlat, upperlat = (10,240,-40,0)\n",
    "img_extent = [leftlon, rightlon, lowerlat, upperlat]\n",
    "lon_formatter = cticker.LongitudeFormatter()\n",
    "lat_formatter = cticker.LatitudeFormatter()\n",
    "\n",
    "ax = fig.add_axes([0.1, 0.1, 0.8, 0.6],projection = proj)\n",
    "ax.set_extent(img_extent, crs=ccrs.PlateCarree())\n",
    "land = cfeature.NaturalEarthFeature('physical','land','50m',edgecolor='face',facecolor=cfeature.COLORS['land'])\n",
    "#ax.add_feature(land,facecolor='0.75')\n",
    "ax.add_feature(cfeature.COASTLINE.with_scale('50m'))\n",
    "ax.set_xticks(np.arange(leftlon,rightlon+20,20), crs=ccrs.PlateCarree())\n",
    "ax.set_yticks(np.arange(lowerlat,upperlat+10,10), crs=ccrs.PlateCarree())\n",
    "ax.xaxis.set_major_formatter(lon_formatter)\n",
    "ax.yaxis.set_major_formatter(lat_formatter)\n",
    "c1 = ax.pcolor(lon,lat, slope1980, zorder=0, vmin=-0.06, vmax=0.06, transform=ccrs.PlateCarree(), cmap=newcmap_1)\n",
    "sig1 = ax.scatter(nx[area1], ny[area1],marker = '.',s=6, linewidths=1.3, c='purple',alpha=0.7,transform=ccrs.PlateCarree())\n",
    "ax.set_title('(a) The major variability region for TC genesis from 1980-2004 season.',loc='left',fontsize =12)\n",
    "# colorbar\n",
    "position=fig.add_axes([0.2, 0.22,  0.6, 0.025])\n",
    "cmap_ticks = [-0.05, -0.04, -0.03, -0.02, -0.01, 0, 0.01, 0.02, 0.03, 0.04, 0.05]\n",
    "fig.colorbar(c1,cax=position,ticks=cmap_ticks,orientation='horizontal',format='%.2f')\n",
    "\n",
    "plt.savefig('TC生成频率1980.png', dpi=600, bbox_inches='tight',pad_inches = 0.2)\n",
    "plt.show()"
   ]
  },
  {
   "cell_type": "code",
   "execution_count": null,
   "metadata": {},
   "outputs": [],
   "source": [
    "# 设置字体\n",
    "config = {\n",
    "    \"font.family\": 'serif',\n",
    "    \"font.size\": 12,\n",
    "    \"mathtext.fontset\":'stix',\n",
    "    'axes.unicode_minus': False \n",
    "         }\n",
    "rcParams.update(config)\n",
    "\n",
    "fig = plt.figure(figsize=(12,8))\n",
    "\n",
    "proj = ccrs.PlateCarree(central_longitude=180)\n",
    "leftlon, rightlon, lowerlat, upperlat = (10,240,-40,0)\n",
    "img_extent = [leftlon, rightlon, lowerlat, upperlat]\n",
    "lon_formatter = cticker.LongitudeFormatter()\n",
    "lat_formatter = cticker.LatitudeFormatter()\n",
    "\n",
    "ax = fig.add_axes([0.1, 0.1, 0.8, 0.6],projection = proj)\n",
    "ax.set_extent(img_extent, crs=ccrs.PlateCarree())\n",
    "land = cfeature.NaturalEarthFeature('physical','land','50m',edgecolor='face',facecolor=cfeature.COLORS['land'])\n",
    "#ax.add_feature(land,facecolor='0.75')\n",
    "ax.add_feature(cfeature.COASTLINE.with_scale('50m'))\n",
    "ax.set_xticks(np.arange(leftlon,rightlon+20,20), crs=ccrs.PlateCarree())\n",
    "ax.set_yticks(np.arange(lowerlat,upperlat+10,10), crs=ccrs.PlateCarree())\n",
    "ax.xaxis.set_major_formatter(lon_formatter)\n",
    "ax.yaxis.set_major_formatter(lat_formatter)\n",
    "c1 = ax.pcolor(lon,lat, slope2007, zorder=0, vmin=-0.06, vmax=0.06, transform=ccrs.PlateCarree(), cmap=newcmap_1)\n",
    "sig1 = ax.scatter(nx[area1], ny[area1],marker = '.',s=6, linewidths=1.3, c='purple',alpha=0.7,transform=ccrs.PlateCarree())\n",
    "ax.set_title('(b) The major variability region for TC genesis from 2007-2023 season.',loc='left',fontsize =12)\n",
    "# colorbar\n",
    "position=fig.add_axes([0.2, 0.22,  0.6, 0.025])\n",
    "cmap_ticks = [-0.05, -0.04, -0.03, -0.02, -0.01, 0, 0.01, 0.02, 0.03, 0.04, 0.05]\n",
    "fig.colorbar(c1,cax=position,ticks=cmap_ticks,orientation='horizontal',format='%.2f')\n",
    "\n",
    "plt.savefig('TC生成频率2007.png', dpi=600, bbox_inches='tight',pad_inches = 0.2)\n",
    "plt.show()"
   ]
  },
  {
   "cell_type": "code",
   "execution_count": null,
   "metadata": {},
   "outputs": [],
   "source": []
  },
  {
   "cell_type": "code",
   "execution_count": null,
   "metadata": {},
   "outputs": [],
   "source": []
  },
  {
   "cell_type": "code",
   "execution_count": null,
   "metadata": {},
   "outputs": [],
   "source": []
  }
 ],
 "metadata": {
  "kernelspec": {
   "display_name": "Python 3 (ipykernel)",
   "language": "python",
   "name": "python3"
  },
  "language_info": {
   "codemirror_mode": {
    "name": "ipython",
    "version": 3
   },
   "file_extension": ".py",
   "mimetype": "text/x-python",
   "name": "python",
   "nbconvert_exporter": "python",
   "pygments_lexer": "ipython3",
   "version": "3.7.6"
  }
 },
 "nbformat": 4,
 "nbformat_minor": 4
}
