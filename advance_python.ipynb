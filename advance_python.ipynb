{
 "cells": [
  {
   "cell_type": "code",
   "execution_count": null,
   "metadata": {},
   "outputs": [
    {
     "name": "stdout",
     "output_type": "stream",
     "text": [
      "请输入要猜测的数字: 50\n",
      "猜的数字太小了！\n",
      "你还剩9次猜测机会\n"
     ]
    }
   ],
   "source": [
    "### PYTHON 一切皆对象 本征值 型式 值\n",
    "# java 面对对象 python 面对对象 彻底\n",
    "\n",
    "import random\n",
    "num = random.randint(0, 100)\n",
    "\n",
    "input_num = int(input(\"请输入要猜测的数字: \"))\n",
    "\n",
    "count = 1\n",
    "\n",
    "while count <= 9:\n",
    "    if input_num > 100:\n",
    "        print(\"猜测的数据超出范围！\")\n",
    "    else:\n",
    "        if input_num > num:\n",
    "            print(\"猜的数字太大了！\")\n",
    "            print(\"你还剩%d次猜测机会\"%(10-count))\n",
    "        elif input_num < num:\n",
    "            print(\"猜的数字太小了！\")\n",
    "            print(\"你还剩%d次猜测机会\"%(10-count))\n",
    "        elif input_num == num:\n",
    "            print(\"恭喜你猜对了，总共用了%d次\"%count)\n",
    "            break\n",
    "    \n",
    "    count += 1\n",
    "    \n",
    "    input_num = int(input(\"请输入要猜测的数字: \"))\n",
    "else:\n",
    "    print(\"已经超出了猜测次数！\")"
   ]
  }
 ],
 "metadata": {
  "kernelspec": {
   "display_name": "Python 3 (ipykernel)",
   "language": "python",
   "name": "python3"
  },
  "language_info": {
   "codemirror_mode": {
    "name": "ipython",
    "version": 3
   },
   "file_extension": ".py",
   "mimetype": "text/x-python",
   "name": "python",
   "nbconvert_exporter": "python",
   "pygments_lexer": "ipython3",
   "version": "3.7.6"
  }
 },
 "nbformat": 4,
 "nbformat_minor": 4
}
