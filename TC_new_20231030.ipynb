{
 "cells": [
  {
   "cell_type": "code",
   "execution_count": 1,
   "metadata": {},
   "outputs": [],
   "source": [
    "import numpy as np  \n",
    "import pandas as pd\n",
    "import xarray as xr\n",
    "from dbfread import DBF\n",
    "import dbf\n",
    "from scipy.stats import linregress\n",
    "import matplotlib.pyplot as plt\n",
    "from matplotlib import rcParams\n",
    "import cartopy.crs as ccrs\n",
    "import cartopy.feature as cfeature\n",
    "from cartopy.mpl.gridliner import LONGITUDE_FORMATTER, LATITUDE_FORMATTER\n",
    "import cartopy.mpl.ticker as cticker\n",
    "from cartopy.io.shapereader import Reader\n",
    "import cartopy.io.shapereader as shpreader\n",
    "import math\n",
    "from matplotlib import patches\n",
    "from tqdm import tqdm\n",
    "import os\n",
    "import cmaps\n",
    "from matplotlib.colors import ListedColormap"
   ]
  },
  {
   "cell_type": "code",
   "execution_count": 96,
   "metadata": {},
   "outputs": [],
   "source": [
    "# 指定两个dbf文件路径\n",
    "filename1 = \"./dataset/SI.dbf\"\n",
    "filename2 = \"./dataset/SP.dbf\"\n",
    "\n",
    "# 指定要读取的列名\n",
    "columns = [ 'year', 'BASIN', 'ISO_TIME', 'LAT', 'LON', 'DIST2LAND',\n",
    "           'NATURE','USA_STATUS', 'USA_WIND','WMO_WIND']\n",
    "\n",
    "# 读取dbf文件中指定列名的数据\n",
    "data1 = []\n",
    "for record in DBF(filename1):\n",
    "    row = []\n",
    "    for column in columns:\n",
    "        row.append(record[column])\n",
    "    data1.append(row)\n",
    "\n",
    "data2 = []\n",
    "for record in DBF(filename2):\n",
    "    row = []\n",
    "    for column in columns:\n",
    "        row.append(record[column])\n",
    "    data2.append(row)"
   ]
  },
  {
   "cell_type": "code",
   "execution_count": 97,
   "metadata": {},
   "outputs": [],
   "source": [
    "# 将数据转换为DataFrame\n",
    "df1 = pd.DataFrame(data1, columns=columns)  #168730row\n",
    "df2 = pd.DataFrame(data2, columns=columns)  #75937row"
   ]
  },
  {
   "cell_type": "code",
   "execution_count": 98,
   "metadata": {
    "scrolled": true
   },
   "outputs": [],
   "source": [
    "# 筛选TC，删除非TC以及陆地上的点\n",
    "# df1_s = df1[df1['USA_STATUS'].isin(['ST', 'TC', 'TD', 'TS', 'TY'])]\n",
    "df1_s = df1[df1['NATURE'].isin(['TS'])]\n",
    "df1_s = df1_s[df1_s['DIST2LAND'] != 0]  #共98866行\n",
    "\n",
    "df2_s = df2[df2['NATURE'].isin(['TS'])]\n",
    "df2_s = df2_s[df2_s['DIST2LAND'] != 0]  #共50312行"
   ]
  },
  {
   "cell_type": "code",
   "execution_count": 99,
   "metadata": {},
   "outputs": [],
   "source": [
    "# 筛选出年份在1980-2022年内的数据\n",
    "df1_year = df1[(df1['year'] >= 1980)]\n",
    "df2_year = df2[(df2['year'] >= 1980)]\n"
   ]
  },
  {
   "cell_type": "code",
   "execution_count": 85,
   "metadata": {},
   "outputs": [
    {
     "data": {
      "text/html": [
       "<div>\n",
       "<style scoped>\n",
       "    .dataframe tbody tr th:only-of-type {\n",
       "        vertical-align: middle;\n",
       "    }\n",
       "\n",
       "    .dataframe tbody tr th {\n",
       "        vertical-align: top;\n",
       "    }\n",
       "\n",
       "    .dataframe thead th {\n",
       "        text-align: right;\n",
       "    }\n",
       "</style>\n",
       "<table border=\"1\" class=\"dataframe\">\n",
       "  <thead>\n",
       "    <tr style=\"text-align: right;\">\n",
       "      <th></th>\n",
       "      <th>year</th>\n",
       "      <th>BASIN</th>\n",
       "      <th>ISO_TIME</th>\n",
       "      <th>LAT</th>\n",
       "      <th>LON</th>\n",
       "      <th>USA_STATUS</th>\n",
       "      <th>USA_WIND</th>\n",
       "      <th>WMO_WIND</th>\n",
       "    </tr>\n",
       "  </thead>\n",
       "  <tbody>\n",
       "    <tr>\n",
       "      <th>104472</th>\n",
       "      <td>1980</td>\n",
       "      <td>SI</td>\n",
       "      <td>1980-01-01 00:00:00</td>\n",
       "      <td>-16.11</td>\n",
       "      <td>81.68</td>\n",
       "      <td></td>\n",
       "      <td>35.0</td>\n",
       "      <td>40.0</td>\n",
       "    </tr>\n",
       "    <tr>\n",
       "      <th>104473</th>\n",
       "      <td>1980</td>\n",
       "      <td>SI</td>\n",
       "      <td>1980-01-01 03:00:00</td>\n",
       "      <td>-16.09</td>\n",
       "      <td>81.34</td>\n",
       "      <td></td>\n",
       "      <td>35.0</td>\n",
       "      <td>NaN</td>\n",
       "    </tr>\n",
       "    <tr>\n",
       "      <th>104474</th>\n",
       "      <td>1980</td>\n",
       "      <td>SI</td>\n",
       "      <td>1980-01-01 06:00:00</td>\n",
       "      <td>-16.07</td>\n",
       "      <td>80.96</td>\n",
       "      <td></td>\n",
       "      <td>35.0</td>\n",
       "      <td>NaN</td>\n",
       "    </tr>\n",
       "    <tr>\n",
       "      <th>104475</th>\n",
       "      <td>1980</td>\n",
       "      <td>SI</td>\n",
       "      <td>1980-01-01 09:00:00</td>\n",
       "      <td>-16.06</td>\n",
       "      <td>80.48</td>\n",
       "      <td></td>\n",
       "      <td>32.0</td>\n",
       "      <td>NaN</td>\n",
       "    </tr>\n",
       "    <tr>\n",
       "      <th>104476</th>\n",
       "      <td>1980</td>\n",
       "      <td>SI</td>\n",
       "      <td>1980-01-01 12:00:00</td>\n",
       "      <td>-16.10</td>\n",
       "      <td>79.90</td>\n",
       "      <td></td>\n",
       "      <td>30.0</td>\n",
       "      <td>NaN</td>\n",
       "    </tr>\n",
       "    <tr>\n",
       "      <th>...</th>\n",
       "      <td>...</td>\n",
       "      <td>...</td>\n",
       "      <td>...</td>\n",
       "      <td>...</td>\n",
       "      <td>...</td>\n",
       "      <td>...</td>\n",
       "      <td>...</td>\n",
       "      <td>...</td>\n",
       "    </tr>\n",
       "    <tr>\n",
       "      <th>168725</th>\n",
       "      <td>2023</td>\n",
       "      <td>SI</td>\n",
       "      <td>2023-05-22 06:00:00</td>\n",
       "      <td>-11.80</td>\n",
       "      <td>69.00</td>\n",
       "      <td></td>\n",
       "      <td>29.0</td>\n",
       "      <td>NaN</td>\n",
       "    </tr>\n",
       "    <tr>\n",
       "      <th>168726</th>\n",
       "      <td>2023</td>\n",
       "      <td>SI</td>\n",
       "      <td>2023-05-22 09:00:00</td>\n",
       "      <td>-12.19</td>\n",
       "      <td>69.07</td>\n",
       "      <td></td>\n",
       "      <td>29.0</td>\n",
       "      <td>NaN</td>\n",
       "    </tr>\n",
       "    <tr>\n",
       "      <th>168727</th>\n",
       "      <td>2023</td>\n",
       "      <td>SI</td>\n",
       "      <td>2023-05-22 12:00:00</td>\n",
       "      <td>-12.60</td>\n",
       "      <td>69.20</td>\n",
       "      <td></td>\n",
       "      <td>29.0</td>\n",
       "      <td>NaN</td>\n",
       "    </tr>\n",
       "    <tr>\n",
       "      <th>168728</th>\n",
       "      <td>2023</td>\n",
       "      <td>SI</td>\n",
       "      <td>2023-05-22 15:00:00</td>\n",
       "      <td>-12.89</td>\n",
       "      <td>69.39</td>\n",
       "      <td></td>\n",
       "      <td>29.0</td>\n",
       "      <td>NaN</td>\n",
       "    </tr>\n",
       "    <tr>\n",
       "      <th>168729</th>\n",
       "      <td>2023</td>\n",
       "      <td>SI</td>\n",
       "      <td>2023-05-22 18:00:00</td>\n",
       "      <td>-13.10</td>\n",
       "      <td>69.60</td>\n",
       "      <td></td>\n",
       "      <td>29.0</td>\n",
       "      <td>NaN</td>\n",
       "    </tr>\n",
       "  </tbody>\n",
       "</table>\n",
       "<p>64258 rows × 8 columns</p>\n",
       "</div>"
      ],
      "text/plain": [
       "        year BASIN             ISO_TIME    LAT    LON USA_STATUS  USA_WIND  \\\n",
       "104472  1980    SI  1980-01-01 00:00:00 -16.11  81.68                 35.0   \n",
       "104473  1980    SI  1980-01-01 03:00:00 -16.09  81.34                 35.0   \n",
       "104474  1980    SI  1980-01-01 06:00:00 -16.07  80.96                 35.0   \n",
       "104475  1980    SI  1980-01-01 09:00:00 -16.06  80.48                 32.0   \n",
       "104476  1980    SI  1980-01-01 12:00:00 -16.10  79.90                 30.0   \n",
       "...      ...   ...                  ...    ...    ...        ...       ...   \n",
       "168725  2023    SI  2023-05-22 06:00:00 -11.80  69.00                 29.0   \n",
       "168726  2023    SI  2023-05-22 09:00:00 -12.19  69.07                 29.0   \n",
       "168727  2023    SI  2023-05-22 12:00:00 -12.60  69.20                 29.0   \n",
       "168728  2023    SI  2023-05-22 15:00:00 -12.89  69.39                 29.0   \n",
       "168729  2023    SI  2023-05-22 18:00:00 -13.10  69.60                 29.0   \n",
       "\n",
       "        WMO_WIND  \n",
       "104472      40.0  \n",
       "104473       NaN  \n",
       "104474       NaN  \n",
       "104475       NaN  \n",
       "104476       NaN  \n",
       "...          ...  \n",
       "168725       NaN  \n",
       "168726       NaN  \n",
       "168727       NaN  \n",
       "168728       NaN  \n",
       "168729       NaN  \n",
       "\n",
       "[64258 rows x 8 columns]"
      ]
     },
     "execution_count": 85,
     "metadata": {},
     "output_type": "execute_result"
    }
   ],
   "source": [
    "df1_year"
   ]
  },
  {
   "cell_type": "code",
   "execution_count": null,
   "metadata": {},
   "outputs": [],
   "source": []
  },
  {
   "cell_type": "code",
   "execution_count": null,
   "metadata": {},
   "outputs": [],
   "source": []
  },
  {
   "cell_type": "code",
   "execution_count": 3,
   "metadata": {},
   "outputs": [],
   "source": [
    "# 将数据转换为DataFrame\n",
    "df1 = pd.DataFrame(data1, columns=columns)  #168730row\n",
    "df2 = pd.DataFrame(data2, columns=columns)  #75937row\n",
    "\n",
    "# 筛选TC，删除非TC以及陆地上的点\n",
    "# df1_s = df1[df1['USA_STATUS'].isin(['ST', 'TC', 'TD', 'TS', 'TY'])]\n",
    "df1_s = df1[df1['NATURE'].isin(['TS'])]\n",
    "df1_s = df1_s[df1_s['DIST2LAND'] != 0]  #共98866行\n",
    "\n",
    "df2_s = df2[df2['NATURE'].isin(['TS'])]\n",
    "df2_s = df2_s[df2_s['DIST2LAND'] != 0]  #共50312行\n"
   ]
  },
  {
   "cell_type": "code",
   "execution_count": 4,
   "metadata": {},
   "outputs": [],
   "source": [
    "# 筛选出年份在1980-2022年内的数据\n",
    "df1_year = df1_s[(df1_s['year'] >= 1980) & (df1_s['year'] <= 2023)]\n",
    "\n",
    "# 筛选出USA_WIND大于等于35的数据\n",
    "df1_w = df1_year[df1_year['WMO_WIND'] >= 35]\n",
    "\n",
    "# 检查SID是否有重复，若有重复则保留'USA_WIND'列最接近35的那一行数据\n",
    "df1_SID = df1_w.sort_values(by=['SID', 'WMO_WIND'])  #按照 SID 和 USA_WIND 列进行升序排序，即先按照 SID 排序，如果 SID 相同，则按照 USA_WIND 排序。\n",
    "df1_SID.drop_duplicates(subset=['SID'], keep='first', inplace=True)  #若SID重复，保留这些行的第一个\n",
    "\n",
    "# df2筛选同理\n",
    "df2_year = df2_s[(df2_s['year'] >= 1980) & (df2_s['year'] <= 2023)]\n",
    "df2_w = df2_year[df2_year['WMO_WIND'] >= 0]\n",
    "df2_SID = df2_w.sort_values(by=['SID', 'WMO_WIND'])  \n",
    "df2_SID.drop_duplicates(subset=['SID'], keep='first', inplace=True)  \n",
    "\n",
    "# 按照 'year'，'LAT' 和 'LON' 进行分组，并统计每个组的大小\n",
    "df1_count = df1_SID.groupby(['year', 'LAT', 'LON']).size().reset_index(name='tc')\n",
    "df2_count = df2_SID.groupby(['year', 'LAT', 'LON']).size().reset_index(name='tc')\n",
    "\n",
    "# 将两个 DataFrame 拼接在一起\n",
    "df_concat = pd.concat([df1_count, df2_count], axis=0)\n",
    "df_concat = df_concat.reset_index(drop=True)\n",
    "# df_concat"
   ]
  },
  {
   "cell_type": "code",
   "execution_count": 5,
   "metadata": {},
   "outputs": [],
   "source": [
    "# 创建 'lat' 和 'lon' 的坐标数组\n",
    "#lat = np.arange(-40,0.5,2.5)  # lat 从 0° 到 40°S，步长 2.5°\n",
    "lat = np.arange(0, -45, -2.5)  # lat 从 0° 到 40°S，步长 2.5°\n",
    "# lat = np.arange(0, -40.5, -2.5)  # lat 从 0° 到 40°S，步长 2.5°\n",
    "lon = np.arange(0, 360, 2.5)  # lon 从 0 到 360，步长 2.5°"
   ]
  },
  {
   "cell_type": "code",
   "execution_count": 6,
   "metadata": {},
   "outputs": [],
   "source": [
    "def tc_creat(startYear, endYear, lat, lon):\n",
    "    # 创建 'tc' 变量，并将其写入 DataArray 对象\n",
    "    tc = xr.DataArray(\n",
    "        data=np.zeros((len(np.arange(startYear, endYear)), len(lat), len(lon))),\n",
    "        dims=('year', 'lat', 'lon'),\n",
    "        coords={'year': np.arange(startYear, endYear), 'lat': lat, 'lon': lon},\n",
    "    )\n",
    "    return tc\n",
    "\n",
    "def sort_year_and_reset_index(df):\n",
    "    df = df.sort_values(by=['year'],ascending=[True])\n",
    "    df = df.reset_index(drop=True)\n",
    "    return df"
   ]
  },
  {
   "cell_type": "code",
   "execution_count": 9,
   "metadata": {},
   "outputs": [],
   "source": [
    "tc_first = tc_creat(1980, 2005, lat, lon)\n",
    "tc_second = tc_creat(2006, 2024, lat, lon)"
   ]
  },
  {
   "cell_type": "code",
   "execution_count": 65,
   "metadata": {},
   "outputs": [],
   "source": [
    "# 第一阶段1980-2005\n",
    "df_first = sort_year_and_reset_index(df_concat[(df_concat['year'] <= 2005)])\n",
    "# 第二阶段2006-2023\n",
    "df_second = sort_year_and_reset_index(df_concat[(df_concat['year'] >= 2006)])"
   ]
  },
  {
   "cell_type": "code",
   "execution_count": 66,
   "metadata": {},
   "outputs": [
    {
     "data": {
      "text/html": [
       "<div>\n",
       "<style scoped>\n",
       "    .dataframe tbody tr th:only-of-type {\n",
       "        vertical-align: middle;\n",
       "    }\n",
       "\n",
       "    .dataframe tbody tr th {\n",
       "        vertical-align: top;\n",
       "    }\n",
       "\n",
       "    .dataframe thead th {\n",
       "        text-align: right;\n",
       "    }\n",
       "</style>\n",
       "<table border=\"1\" class=\"dataframe\">\n",
       "  <thead>\n",
       "    <tr style=\"text-align: right;\">\n",
       "      <th></th>\n",
       "      <th>year</th>\n",
       "      <th>LAT</th>\n",
       "      <th>LON</th>\n",
       "      <th>tc</th>\n",
       "    </tr>\n",
       "  </thead>\n",
       "  <tbody>\n",
       "    <tr>\n",
       "      <th>0</th>\n",
       "      <td>1980</td>\n",
       "      <td>-32.40</td>\n",
       "      <td>93.70</td>\n",
       "      <td>1</td>\n",
       "    </tr>\n",
       "    <tr>\n",
       "      <th>1</th>\n",
       "      <td>1980</td>\n",
       "      <td>-16.20</td>\n",
       "      <td>-146.30</td>\n",
       "      <td>1</td>\n",
       "    </tr>\n",
       "    <tr>\n",
       "      <th>2</th>\n",
       "      <td>1980</td>\n",
       "      <td>-14.90</td>\n",
       "      <td>136.60</td>\n",
       "      <td>1</td>\n",
       "    </tr>\n",
       "    <tr>\n",
       "      <th>3</th>\n",
       "      <td>1980</td>\n",
       "      <td>-14.89</td>\n",
       "      <td>159.64</td>\n",
       "      <td>1</td>\n",
       "    </tr>\n",
       "    <tr>\n",
       "      <th>4</th>\n",
       "      <td>1980</td>\n",
       "      <td>-14.30</td>\n",
       "      <td>139.80</td>\n",
       "      <td>1</td>\n",
       "    </tr>\n",
       "    <tr>\n",
       "      <th>...</th>\n",
       "      <td>...</td>\n",
       "      <td>...</td>\n",
       "      <td>...</td>\n",
       "      <td>...</td>\n",
       "    </tr>\n",
       "    <tr>\n",
       "      <th>668</th>\n",
       "      <td>2005</td>\n",
       "      <td>-12.83</td>\n",
       "      <td>45.33</td>\n",
       "      <td>1</td>\n",
       "    </tr>\n",
       "    <tr>\n",
       "      <th>669</th>\n",
       "      <td>2005</td>\n",
       "      <td>-12.40</td>\n",
       "      <td>101.10</td>\n",
       "      <td>1</td>\n",
       "    </tr>\n",
       "    <tr>\n",
       "      <th>670</th>\n",
       "      <td>2005</td>\n",
       "      <td>-12.25</td>\n",
       "      <td>97.78</td>\n",
       "      <td>1</td>\n",
       "    </tr>\n",
       "    <tr>\n",
       "      <th>671</th>\n",
       "      <td>2005</td>\n",
       "      <td>-9.10</td>\n",
       "      <td>-178.10</td>\n",
       "      <td>1</td>\n",
       "    </tr>\n",
       "    <tr>\n",
       "      <th>672</th>\n",
       "      <td>2005</td>\n",
       "      <td>-8.10</td>\n",
       "      <td>180.63</td>\n",
       "      <td>1</td>\n",
       "    </tr>\n",
       "  </tbody>\n",
       "</table>\n",
       "<p>673 rows × 4 columns</p>\n",
       "</div>"
      ],
      "text/plain": [
       "     year    LAT     LON  tc\n",
       "0    1980 -32.40   93.70   1\n",
       "1    1980 -16.20 -146.30   1\n",
       "2    1980 -14.90  136.60   1\n",
       "3    1980 -14.89  159.64   1\n",
       "4    1980 -14.30  139.80   1\n",
       "..    ...    ...     ...  ..\n",
       "668  2005 -12.83   45.33   1\n",
       "669  2005 -12.40  101.10   1\n",
       "670  2005 -12.25   97.78   1\n",
       "671  2005  -9.10 -178.10   1\n",
       "672  2005  -8.10  180.63   1\n",
       "\n",
       "[673 rows x 4 columns]"
      ]
     },
     "execution_count": 66,
     "metadata": {},
     "output_type": "execute_result"
    }
   ],
   "source": [
    "df_first"
   ]
  },
  {
   "cell_type": "code",
   "execution_count": null,
   "metadata": {},
   "outputs": [],
   "source": []
  },
  {
   "cell_type": "code",
   "execution_count": 11,
   "metadata": {},
   "outputs": [],
   "source": [
    "def tc_write(df,tc, num_year, lat, lon):\n",
    "# 将每个格点每年生成的台风数量写入 'tc' 变量.iterrows()\n",
    "# 将 DataFrame 表中的数据写入 'tc' 变量中相应的位置\n",
    "    for _, row in df.iterrows():\n",
    "        year, lat, lon, count = row.values\n",
    "    #     print(_, year, lat, lon, count)\n",
    "        year = int(year)                  # 将 year 转换为整数类型\n",
    "        lat_idx = int(round(-lat / 2.5))  # 计算 lat 在 'tc' 中的索引\n",
    "        lon_idx = int(round(lon / 2.5))   # 计算 lon 在 'tc' 中的索引\n",
    "        tc[year-num_year, lat_idx, lon_idx-1] = count\n",
    "    return tc\n",
    "\n",
    "def year_mean_huadong(year, lat, lon):\n",
    "    year_mean_hudong = np.zeros((18,144),dtype=float)\n",
    "    for i in range(year-2, year+3):\n",
    "        tcYear = tc_creat(i, i+1, lat, lon)\n",
    "        dfYear = sort_year_and_reset_index(df_concat[(df_concat['year'] == i)])\n",
    "        tcYear2Next = tc_write(dfYear, tcYear,i, lat, lon)\n",
    "        year_mean_hudong += tcYear2Next[0].data\n",
    "    year_mean_hudong = year_mean_hudong/5\n",
    "\n",
    "#     tcYear2Year = tc_creat(year, year+1, lat, lon)\n",
    "#     tcYear2Year[0].data = year_mean_hudong\n",
    "    return year_mean_hudong\n",
    "\n",
    "def phase_mean_hua_dong(startYear, endYear):\n",
    "    '''\n",
    "    输入起始年\n",
    "    输入xdarray 年滑动平局\n",
    "    '''\n",
    "    # 创建空tc\n",
    "    tc_tmp = tc_creat(startYear, endYear, lat, lon)\n",
    "    # 遍历起始年份\n",
    "    for year in range(startYear, endYear):\n",
    "        yearMeanHuaDong = year_mean_huadong(year, lat, lon)\n",
    "        # 赋值year的滑动平均\n",
    "        tc_tmp.data[year-startYear] = yearMeanHuaDong\n",
    "    return tc_tmp\n",
    "\n",
    "def compute_tc_year(startYear, endYear):\n",
    "    # 按照年份进行分组，并计算SI每个年份的台风总数量\n",
    "    df1_total = df1_count.groupby('year')['tc'].sum().reset_index()\n",
    "\n",
    "    # 新建一个包含所有年份的 DataFrame（由于2000年前为0，我这里直接从2000年开始）\n",
    "    years = range(startYear, endYear)\n",
    "    df1_total_result = pd.DataFrame({'year': years})\n",
    "    # 合并两个 DataFrame\n",
    "    df1_total_result = pd.merge(df1_total_result, df1_total, on='year', how='left')\n",
    "    # 将缺失值填充为 0\n",
    "    df1_total_result['tc'] = df1_total_result['tc'].fillna(0)\n",
    "    SI_total = df1_total_result['tc'].values\n",
    "    return SI_total"
   ]
  },
  {
   "cell_type": "code",
   "execution_count": 12,
   "metadata": {},
   "outputs": [],
   "source": [
    "tc_first = phase_mean_hua_dong(1982, 2005)\n",
    "\n",
    "tc_second = phase_mean_hua_dong(2006, 2021)"
   ]
  },
  {
   "cell_type": "code",
   "execution_count": 37,
   "metadata": {},
   "outputs": [
    {
     "name": "stdout",
     "output_type": "stream",
     "text": [
      "(23, 18, 144)\n",
      "(16, 18, 144)\n"
     ]
    }
   ],
   "source": [
    "print(tc_first.shape)\n",
    "print(tc_second.shape)"
   ]
  },
  {
   "cell_type": "code",
   "execution_count": 32,
   "metadata": {},
   "outputs": [],
   "source": [
    "SI_total_first = compute_tc_year(1980, 2005)\n",
    "SI_total_second = compute_tc_year(2006, 2024)"
   ]
  },
  {
   "cell_type": "code",
   "execution_count": 33,
   "metadata": {},
   "outputs": [
    {
     "name": "stdout",
     "output_type": "stream",
     "text": [
      "(27,)\n",
      "(20,)\n"
     ]
    }
   ],
   "source": [
    "print(SI_total_first.shape)\n",
    "print(SI_total_second.shape)"
   ]
  },
  {
   "cell_type": "code",
   "execution_count": 17,
   "metadata": {},
   "outputs": [],
   "source": [
    "def HuaDong_mean(SI_total):\n",
    "    '''\n",
    "    计算滑动平均 \n",
    "    '''\n",
    "    ls = []\n",
    "    length = SI_total.shape[0]\n",
    "    for i in range(2, length-2):\n",
    "        # 计算i的前后各2个数的平均\n",
    "        tmp = SI_total[i-2]+SI_total[i-1]+SI_total[i]+SI_total[i+1]+SI_total[i+2]\n",
    "        ls.append(tmp / 5)\n",
    "    return np.array(ls)\n",
    "    \n",
    "\n",
    "# SI_1980 = HuaDong_mean(SI_total_1980)\n",
    "# SI_2007 = HuaDong_mean(SI_total_2007)"
   ]
  },
  {
   "cell_type": "code",
   "execution_count": 38,
   "metadata": {},
   "outputs": [
    {
     "name": "stdout",
     "output_type": "stream",
     "text": [
      "(23,)\n",
      "(16,)\n"
     ]
    }
   ],
   "source": [
    "\n",
    "SI_first = HuaDong_mean(SI_total_first)\n",
    "SI_second = HuaDong_mean(SI_total_second)\n",
    "\n",
    "print(SI_first.shape)\n",
    "print(SI_second.shape)"
   ]
  },
  {
   "cell_type": "code",
   "execution_count": 23,
   "metadata": {},
   "outputs": [],
   "source": [
    "def compute_regress(tc, SI_total):\n",
    "    # 创建3个空数组存放回归系数和p值\n",
    "    slope = np.full((tc.shape[1], tc.shape[2]), np.nan)\n",
    "    r = np.full((tc.shape[1], tc.shape[2]), np.nan)\n",
    "    p_value = np.full((tc.shape[1], tc.shape[2]), np.nan)\n",
    "    # 循环每个格点计算回归系数和p值\n",
    "    # 第一个循环是lat的个数\n",
    "    for i in tqdm(range(18)):\n",
    "        # 第二个循环是lon的点个数\n",
    "        for j in range(144):\n",
    "            # 计算多年数据相加结果\n",
    "            total = tc[:,i,j].sum()\n",
    "            # 仅当多年数据相加结果大于0时进行回归分析\n",
    "            if total > 0:\n",
    "                slope[i,j],_,r[i,j],p_value[i,j],_ = linregress(SI_total,tc[:,i,j])\n",
    "    return slope, p_value\n",
    "\n",
    "\n"
   ]
  },
  {
   "cell_type": "code",
   "execution_count": 30,
   "metadata": {},
   "outputs": [
    {
     "data": {
      "text/plain": [
       "(21,)"
      ]
     },
     "execution_count": 30,
     "metadata": {},
     "output_type": "execute_result"
    }
   ],
   "source": [
    "SI_first.shape"
   ]
  },
  {
   "cell_type": "code",
   "execution_count": 42,
   "metadata": {},
   "outputs": [
    {
     "name": "stderr",
     "output_type": "stream",
     "text": [
      "100%|██████████| 18/18 [00:00<00:00, 19.52it/s]\n"
     ]
    }
   ],
   "source": [
    "slope_first, p_value_first = compute_regress(tc_first, SI_first)"
   ]
  },
  {
   "cell_type": "code",
   "execution_count": 43,
   "metadata": {
    "scrolled": true
   },
   "outputs": [
    {
     "name": "stderr",
     "output_type": "stream",
     "text": [
      "100%|██████████| 18/18 [00:00<00:00, 19.81it/s]\n"
     ]
    }
   ],
   "source": [
    "slope_second, p_value_second = compute_regress(tc_second, SI_second)"
   ]
  },
  {
   "cell_type": "code",
   "execution_count": 44,
   "metadata": {},
   "outputs": [
    {
     "name": "stdout",
     "output_type": "stream",
     "text": [
      "Slope 1980 MAX: 0.1436369840 and the MIN: -0.0829068577\n",
      "Slope 2006 MAX: 0.0811651415 and the MIN: -0.0531132245\n"
     ]
    }
   ],
   "source": [
    "print(\"Slope 1980 MAX: %.10f and the MIN: %.10f\"%(np.nanmax(slope_first), np.nanmin(slope_first)))\n",
    "\n",
    "print(\"Slope 2006 MAX: %.10f and the MIN: %.10f\"%(np.nanmax(slope_second), np.nanmin(slope_second)))"
   ]
  },
  {
   "cell_type": "code",
   "execution_count": 45,
   "metadata": {},
   "outputs": [],
   "source": [
    "lon = tc1980.lon\n",
    "lat = tc1980.lat\n",
    "\n",
    "# 显著性打点设置为95%\n",
    "area1 = np.where(p_value_first < 0.05)\n",
    "area2 = np.where(p_value_second < 0.05)\n",
    "nx,ny = np.meshgrid(lon,lat)"
   ]
  },
  {
   "cell_type": "code",
   "execution_count": 46,
   "metadata": {
    "scrolled": true
   },
   "outputs": [
    {
     "data": {
      "image/png": "[encoded data removed]",
      "text/plain": [
       "<Figure size 864x576 with 3 Axes>"
      ]
     },
     "metadata": {
      "needs_background": "light"
     },
     "output_type": "display_data"
    }
   ],
   "source": [
    "from matplotlib import colors,cm\n",
    "import matplotlib as mpl\n",
    "\n",
    "# 设置字体\n",
    "config = {\n",
    "    \"font.family\": 'serif',\n",
    "    \"font.size\": 12,\n",
    "    \"mathtext.fontset\":'stix',\n",
    "    'axes.unicode_minus': False \n",
    "         }\n",
    "rcParams.update(config)\n",
    "\n",
    "MAX = 0.15\n",
    "MIN = -0.1\n",
    "\n",
    "fig = plt.figure(figsize=(12,8))\n",
    "\n",
    "proj = ccrs.PlateCarree(central_longitude=180)\n",
    "leftlon, rightlon, lowerlat, upperlat = (10,240,-40,0)\n",
    "img_extent = [leftlon, rightlon, lowerlat, upperlat]\n",
    "lon_formatter = cticker.LongitudeFormatter()\n",
    "lat_formatter = cticker.LatitudeFormatter()\n",
    "\n",
    "ax = fig.add_axes([0.1, 0.4, 0.8, 0.6],projection = proj)\n",
    "ax.set_extent(img_extent, crs=ccrs.PlateCarree())\n",
    "land = cfeature.NaturalEarthFeature('physical','land','50m',edgecolor='face',facecolor=cfeature.COLORS['land'])\n",
    "#ax.add_feature(land,facecolor='0.75')\n",
    "ax.add_feature(cfeature.COASTLINE.with_scale('50m'))\n",
    "ax.set_xticks(np.arange(leftlon,rightlon+20,20), crs=ccrs.PlateCarree())\n",
    "ax.set_yticks(np.arange(lowerlat,upperlat+10,10), crs=ccrs.PlateCarree())\n",
    "ax.xaxis.set_major_formatter(lon_formatter)\n",
    "ax.yaxis.set_major_formatter(lat_formatter)\n",
    "c1 = ax.pcolor(lon,lat, slope_first, zorder=0, vmin=MIN, vmax=MAX, \n",
    "               transform=ccrs.PlateCarree(), cmap=plt.cm.RdBu_r\n",
    "#                cmap=newcmap_1\n",
    "              )\n",
    "sig1 = ax.scatter(nx[area1], ny[area1],marker = '.',s=6, linewidths=1.3, c='purple',alpha=0.7,transform=ccrs.PlateCarree())\n",
    "ax.set_title('(a) The major variability region for TC genesis from 1980-2006 season.',loc='left',fontsize =12)\n",
    "\n",
    "\n",
    "# ========== 图2 =============\n",
    "ax1 = fig.add_axes([0.1, 0.1, 0.8, 0.6],projection = proj)\n",
    "ax1.set_extent(img_extent, crs=ccrs.PlateCarree())\n",
    "land = cfeature.NaturalEarthFeature('physical','land','50m',edgecolor='face',facecolor=cfeature.COLORS['land'])\n",
    "#ax.add_feature(land,facecolor='0.75')\n",
    "ax1.add_feature(cfeature.COASTLINE.with_scale('50m'))\n",
    "ax1.set_xticks(np.arange(leftlon,rightlon+20,20), crs=ccrs.PlateCarree())\n",
    "ax1.set_yticks(np.arange(lowerlat,upperlat+10,10), crs=ccrs.PlateCarree())\n",
    "ax1.xaxis.set_major_formatter(lon_formatter)\n",
    "ax1.yaxis.set_major_formatter(lat_formatter)\n",
    "c1 = ax1.pcolor(lon,lat, slope_second, zorder=0, vmin=MIN, vmax=MAX, \n",
    "                transform=ccrs.PlateCarree(), cmap=plt.cm.RdBu_r\n",
    "#                 cmap=newcmap_1\n",
    "               )\n",
    "sig1 = ax1.scatter(nx[area2], ny[area2],marker = '.',s=6, linewidths=1.3, c='purple',alpha=0.7,transform=ccrs.PlateCarree())\n",
    "ax1.set_title('(b) The major variability region for TC genesis from 2009-2022 season.',loc='left',fontsize =12)\n",
    "\n",
    "\n",
    "# colorbar\n",
    "position = fig.add_axes([0.2, 0.20,  0.6, 0.025]) # 最下面位置\n",
    "norm = colors.Normalize(vmin=MIN, vmax=MAX)    #确定colormap的最大最小值\n",
    "fc1=fig.colorbar(mpl.cm.ScalarMappable(norm=norm,\n",
    "                                       cmap=plt.cm.RdBu_r\n",
    "                                      ),\n",
    "                 cax = position,\n",
    "                 orientation='horizontal',\n",
    "                 ticks=np.arange(MIN, MAX+0.01, 0.02).tolist(), # colorbar分片                                                 \n",
    "                 extend='both',\n",
    "#                  label =mul_symbol_text+'1e+06',\n",
    "                fraction=0.02) \n",
    "# position=fig.add_axes([0.2, 0.22,  0.6, 0.025])\n",
    "# cmap_ticks = [i for i in np.arange(MIN, MAX+0.01, 0.03)]\n",
    "# fig.colorbar(c1,cax=position,ticks=cmap_ticks,orientation='horizontal',format='%.2f')\n",
    "\n",
    "plt.savefig('TC生成频率.png', dpi=600, bbox_inches='tight',pad_inches = 0.2)\n",
    "plt.show()"
   ]
  },
  {
   "cell_type": "code",
   "execution_count": 53,
   "metadata": {},
   "outputs": [
    {
     "name": "stdout",
     "output_type": "stream",
     "text": [
      "0.1205287250643012 -0.14525625972522027\n"
     ]
    }
   ],
   "source": [
    "slo_diff = slope_second-slope_first\n",
    "print(np.nanmax(slo_diff), np.nanmin(slo_diff))"
   ]
  },
  {
   "cell_type": "code",
   "execution_count": 56,
   "metadata": {},
   "outputs": [
    {
     "data": {
      "image/png": "[encoded data removed]",
      "text/plain": [
       "<Figure size 864x576 with 2 Axes>"
      ]
     },
     "metadata": {
      "needs_background": "light"
     },
     "output_type": "display_data"
    }
   ],
   "source": [
    "config = {\n",
    "    \"font.family\": 'serif',\n",
    "    \"font.size\": 12,\n",
    "    \"mathtext.fontset\":'stix',\n",
    "    'axes.unicode_minus': False \n",
    "         }\n",
    "rcParams.update(config)\n",
    "\n",
    "MAX = 0.15\n",
    "MIN = -0.15\n",
    "\n",
    "fig = plt.figure(figsize=(12,8))\n",
    "\n",
    "proj = ccrs.PlateCarree(central_longitude=180)\n",
    "leftlon, rightlon, lowerlat, upperlat = (10,240,-40,0)\n",
    "img_extent = [leftlon, rightlon, lowerlat, upperlat]\n",
    "lon_formatter = cticker.LongitudeFormatter()\n",
    "lat_formatter = cticker.LatitudeFormatter()\n",
    "\n",
    "ax = fig.add_axes([0.1, 0.12, 0.8, 0.6],projection = proj)\n",
    "ax.set_extent(img_extent, crs=ccrs.PlateCarree())\n",
    "land = cfeature.NaturalEarthFeature('physical','land','50m',edgecolor='face',facecolor=cfeature.COLORS['land'])\n",
    "#ax.add_feature(land,facecolor='0.75')\n",
    "ax.add_feature(cfeature.COASTLINE.with_scale('50m'))\n",
    "ax.set_xticks(np.arange(leftlon,rightlon+20,20), crs=ccrs.PlateCarree())\n",
    "ax.set_yticks(np.arange(lowerlat,upperlat+10,10), crs=ccrs.PlateCarree())\n",
    "ax.xaxis.set_major_formatter(lon_formatter)\n",
    "ax.yaxis.set_major_formatter(lat_formatter)\n",
    "c1 = ax.pcolor(lon,lat, slope_first, zorder=0, vmin=MIN, vmax=MAX, \n",
    "               transform=ccrs.PlateCarree(), cmap=plt.cm.RdBu_r\n",
    "#                cmap=newcmap_1\n",
    "              )\n",
    "sig1 = ax.scatter(nx[area1], ny[area1],marker = '.',s=6, linewidths=1.3, c='purple',alpha=0.7,transform=ccrs.PlateCarree())\n",
    "ax.set_title('Title',loc='left',fontsize =12)\n",
    "\n",
    "# colorbar\n",
    "position = fig.add_axes([0.2, 0.20,  0.6, 0.025]) # 最下面位置\n",
    "norm = colors.Normalize(vmin=MIN, vmax=MAX)    #确定colormap的最大最小值\n",
    "fc1=fig.colorbar(mpl.cm.ScalarMappable(norm=norm,\n",
    "                                       cmap=plt.cm.RdBu_r\n",
    "                                      ),\n",
    "                 cax = position,\n",
    "                 orientation='horizontal',\n",
    "                 ticks=np.arange(MIN, MAX+0.01, 0.05).tolist(), # colorbar分片                                                 \n",
    "                 extend='both',\n",
    "#                  label =mul_symbol_text+'1e+06',\n",
    "                fraction=0.02) \n",
    "# position=fig.add_axes([0.2, 0.22,  0.6, 0.025])\n",
    "# cmap_ticks = [i for i in np.arange(MIN, MAX+0.01, 0.03)]\n",
    "# fig.colorbar(c1,cax=position,ticks=cmap_ticks,orientation='horizontal',format='%.2f')\n",
    "\n",
    "plt.savefig('TC_new_20231030.png', dpi=600, bbox_inches='tight',pad_inches = 0.2)\n",
    "plt.show()"
   ]
  },
  {
   "cell_type": "code",
   "execution_count": null,
   "metadata": {},
   "outputs": [],
   "source": []
  },
  {
   "cell_type": "code",
   "execution_count": null,
   "metadata": {},
   "outputs": [],
   "source": []
  },
  {
   "cell_type": "code",
   "execution_count": null,
   "metadata": {},
   "outputs": [],
   "source": []
  },
  {
   "cell_type": "code",
   "execution_count": null,
   "metadata": {},
   "outputs": [],
   "source": []
  },
  {
   "cell_type": "code",
   "execution_count": null,
   "metadata": {},
   "outputs": [],
   "source": []
  },
  {
   "cell_type": "code",
   "execution_count": null,
   "metadata": {},
   "outputs": [],
   "source": []
  },
  {
   "cell_type": "code",
   "execution_count": null,
   "metadata": {},
   "outputs": [],
   "source": []
  },
  {
   "cell_type": "code",
   "execution_count": null,
   "metadata": {},
   "outputs": [],
   "source": []
  },
  {
   "cell_type": "code",
   "execution_count": null,
   "metadata": {},
   "outputs": [],
   "source": []
  },
  {
   "cell_type": "code",
   "execution_count": null,
   "metadata": {},
   "outputs": [],
   "source": []
  },
  {
   "cell_type": "code",
   "execution_count": null,
   "metadata": {},
   "outputs": [],
   "source": []
  }
 ],
 "metadata": {
  "kernelspec": {
   "display_name": "Python 3 (ipykernel)",
   "language": "python",
   "name": "python3"
  },
  "language_info": {
   "codemirror_mode": {
    "name": "ipython",
    "version": 3
   },
   "file_extension": ".py",
   "mimetype": "text/x-python",
   "name": "python",
   "nbconvert_exporter": "python",
   "pygments_lexer": "ipython3",
   "version": "3.7.6"
  }
 },
 "nbformat": 4,
 "nbformat_minor": 4
}
